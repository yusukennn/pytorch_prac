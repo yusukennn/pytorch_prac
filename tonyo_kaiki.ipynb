{
  "nbformat": 4,
  "nbformat_minor": 0,
  "metadata": {
    "colab": {
      "name": "tonyo-kaiki.ipynb",
      "provenance": [],
      "collapsed_sections": [],
      "authorship_tag": "ABX9TyMsFAuOxNmzVzjrzd5HUYEV",
      "include_colab_link": true
    },
    "kernelspec": {
      "name": "python3",
      "display_name": "Python 3"
    },
    "accelerator": "GPU"
  },
  "cells": [
    {
      "cell_type": "markdown",
      "metadata": {
        "id": "view-in-github",
        "colab_type": "text"
      },
      "source": [
        "<a href=\"https://colab.research.google.com/github/yusukennn/pytorch_prac/blob/main/tonyo_kaiki.ipynb\" target=\"_parent\"><img src=\"https://colab.research.google.com/assets/colab-badge.svg\" alt=\"Open In Colab\"/></a>"
      ]
    },
    {
      "cell_type": "code",
      "metadata": {
        "colab": {
          "base_uri": "https://localhost:8080/",
          "height": 1000
        },
        "id": "5bI6EmNgC0Tg",
        "outputId": "afd6da84-9026-46eb-c671-1bbf8bd384ea"
      },
      "source": [
        "# 必要なパッケージのインストール\n",
        "!pip3 install torch==1.6.0+cu101\n",
        "!pip3 install torchvision==0.7.0+cu101\n",
        "!pip3 install numpy==1.18.5\n",
        "!pip3 install matplotlib==3.2.2\n",
        "!pip3 install scikit-learn==0.23.1\n",
        "!pip3 install seaborn==0.11.0"
      ],
      "execution_count": null,
      "outputs": [
        {
          "output_type": "stream",
          "text": [
            "\u001b[31mERROR: Could not find a version that satisfies the requirement torch==1.6.0+cu101 (from versions: 0.1.2, 0.1.2.post1, 0.1.2.post2, 0.3.1, 0.4.0, 0.4.1, 1.0.0, 1.0.1, 1.0.1.post2, 1.1.0, 1.2.0, 1.3.0, 1.3.1, 1.4.0, 1.5.0, 1.5.1, 1.6.0, 1.7.0, 1.7.1)\u001b[0m\n",
            "\u001b[31mERROR: No matching distribution found for torch==1.6.0+cu101\u001b[0m\n",
            "\u001b[31mERROR: Could not find a version that satisfies the requirement torchvision==0.7.0+cu101 (from versions: 0.1.6, 0.1.7, 0.1.8, 0.1.9, 0.2.0, 0.2.1, 0.2.2, 0.2.2.post2, 0.2.2.post3, 0.3.0, 0.4.0, 0.4.1, 0.4.2, 0.5.0, 0.6.0, 0.6.1, 0.7.0, 0.8.0, 0.8.1, 0.8.2)\u001b[0m\n",
            "\u001b[31mERROR: No matching distribution found for torchvision==0.7.0+cu101\u001b[0m\n",
            "Collecting numpy==1.18.5\n",
            "\u001b[?25l  Downloading https://files.pythonhosted.org/packages/b3/a9/b1bc4c935ed063766bce7d3e8c7b20bd52e515ff1c732b02caacf7918e5a/numpy-1.18.5-cp36-cp36m-manylinux1_x86_64.whl (20.1MB)\n",
            "\u001b[K     |████████████████████████████████| 20.1MB 38.1MB/s \n",
            "\u001b[31mERROR: tensorflow 2.4.0 has requirement numpy~=1.19.2, but you'll have numpy 1.18.5 which is incompatible.\u001b[0m\n",
            "\u001b[31mERROR: datascience 0.10.6 has requirement folium==0.2.1, but you'll have folium 0.8.3 which is incompatible.\u001b[0m\n",
            "\u001b[31mERROR: albumentations 0.1.12 has requirement imgaug<0.2.7,>=0.2.5, but you'll have imgaug 0.2.9 which is incompatible.\u001b[0m\n",
            "\u001b[?25hInstalling collected packages: numpy\n",
            "  Found existing installation: numpy 1.19.5\n",
            "    Uninstalling numpy-1.19.5:\n",
            "      Successfully uninstalled numpy-1.19.5\n",
            "Successfully installed numpy-1.18.5\n"
          ],
          "name": "stdout"
        },
        {
          "output_type": "display_data",
          "data": {
            "application/vnd.colab-display-data+json": {
              "pip_warning": {
                "packages": [
                  "numpy"
                ]
              }
            }
          },
          "metadata": {
            "tags": []
          }
        },
        {
          "output_type": "stream",
          "text": [
            "Requirement already satisfied: matplotlib==3.2.2 in /usr/local/lib/python3.6/dist-packages (3.2.2)\n",
            "Requirement already satisfied: pyparsing!=2.0.4,!=2.1.2,!=2.1.6,>=2.0.1 in /usr/local/lib/python3.6/dist-packages (from matplotlib==3.2.2) (2.4.7)\n",
            "Requirement already satisfied: numpy>=1.11 in /usr/local/lib/python3.6/dist-packages (from matplotlib==3.2.2) (1.18.5)\n",
            "Requirement already satisfied: python-dateutil>=2.1 in /usr/local/lib/python3.6/dist-packages (from matplotlib==3.2.2) (2.8.1)\n",
            "Requirement already satisfied: cycler>=0.10 in /usr/local/lib/python3.6/dist-packages (from matplotlib==3.2.2) (0.10.0)\n",
            "Requirement already satisfied: kiwisolver>=1.0.1 in /usr/local/lib/python3.6/dist-packages (from matplotlib==3.2.2) (1.3.1)\n",
            "Requirement already satisfied: six>=1.5 in /usr/local/lib/python3.6/dist-packages (from python-dateutil>=2.1->matplotlib==3.2.2) (1.15.0)\n",
            "Collecting scikit-learn==0.23.1\n",
            "\u001b[?25l  Downloading https://files.pythonhosted.org/packages/d9/3a/eb8d7bbe28f4787d140bb9df685b7d5bf6115c0e2a969def4027144e98b6/scikit_learn-0.23.1-cp36-cp36m-manylinux1_x86_64.whl (6.8MB)\n",
            "\u001b[K     |████████████████████████████████| 6.9MB 6.4MB/s \n",
            "\u001b[?25hRequirement already satisfied: scipy>=0.19.1 in /usr/local/lib/python3.6/dist-packages (from scikit-learn==0.23.1) (1.4.1)\n",
            "Collecting threadpoolctl>=2.0.0\n",
            "  Downloading https://files.pythonhosted.org/packages/f7/12/ec3f2e203afa394a149911729357aa48affc59c20e2c1c8297a60f33f133/threadpoolctl-2.1.0-py3-none-any.whl\n",
            "Requirement already satisfied: numpy>=1.13.3 in /usr/local/lib/python3.6/dist-packages (from scikit-learn==0.23.1) (1.18.5)\n",
            "Requirement already satisfied: joblib>=0.11 in /usr/local/lib/python3.6/dist-packages (from scikit-learn==0.23.1) (1.0.0)\n",
            "Installing collected packages: threadpoolctl, scikit-learn\n",
            "  Found existing installation: scikit-learn 0.22.2.post1\n",
            "    Uninstalling scikit-learn-0.22.2.post1:\n",
            "      Successfully uninstalled scikit-learn-0.22.2.post1\n",
            "Successfully installed scikit-learn-0.23.1 threadpoolctl-2.1.0\n",
            "Collecting seaborn==0.11.0\n",
            "\u001b[?25l  Downloading https://files.pythonhosted.org/packages/bc/45/5118a05b0d61173e6eb12bc5804f0fbb6f196adb0a20e0b16efc2b8e98be/seaborn-0.11.0-py3-none-any.whl (283kB)\n",
            "\u001b[K     |████████████████████████████████| 286kB 7.9MB/s \n",
            "\u001b[?25hRequirement already satisfied: scipy>=1.0 in /usr/local/lib/python3.6/dist-packages (from seaborn==0.11.0) (1.4.1)\n",
            "Requirement already satisfied: matplotlib>=2.2 in /usr/local/lib/python3.6/dist-packages (from seaborn==0.11.0) (3.2.2)\n",
            "Requirement already satisfied: pandas>=0.23 in /usr/local/lib/python3.6/dist-packages (from seaborn==0.11.0) (1.1.5)\n",
            "Requirement already satisfied: numpy>=1.15 in /usr/local/lib/python3.6/dist-packages (from seaborn==0.11.0) (1.18.5)\n",
            "Requirement already satisfied: python-dateutil>=2.1 in /usr/local/lib/python3.6/dist-packages (from matplotlib>=2.2->seaborn==0.11.0) (2.8.1)\n",
            "Requirement already satisfied: kiwisolver>=1.0.1 in /usr/local/lib/python3.6/dist-packages (from matplotlib>=2.2->seaborn==0.11.0) (1.3.1)\n",
            "Requirement already satisfied: pyparsing!=2.0.4,!=2.1.2,!=2.1.6,>=2.0.1 in /usr/local/lib/python3.6/dist-packages (from matplotlib>=2.2->seaborn==0.11.0) (2.4.7)\n",
            "Requirement already satisfied: cycler>=0.10 in /usr/local/lib/python3.6/dist-packages (from matplotlib>=2.2->seaborn==0.11.0) (0.10.0)\n",
            "Requirement already satisfied: pytz>=2017.2 in /usr/local/lib/python3.6/dist-packages (from pandas>=0.23->seaborn==0.11.0) (2018.9)\n",
            "Requirement already satisfied: six>=1.5 in /usr/local/lib/python3.6/dist-packages (from python-dateutil>=2.1->matplotlib>=2.2->seaborn==0.11.0) (1.15.0)\n",
            "Installing collected packages: seaborn\n",
            "  Found existing installation: seaborn 0.11.1\n",
            "    Uninstalling seaborn-0.11.1:\n",
            "      Successfully uninstalled seaborn-0.11.1\n",
            "Successfully installed seaborn-0.11.0\n"
          ],
          "name": "stdout"
        }
      ]
    },
    {
      "cell_type": "code",
      "metadata": {
        "id": "ZV4bnFOEDUce"
      },
      "source": [
        "# 必要なパッケージのインストール\n",
        "import pandas as pd\n",
        "import matplotlib.pyplot as plt\n",
        "import seaborn as sns\n",
        "from sklearn.datasets import load_diabetes\n",
        "from sklearn.model_selection import train_test_split\n",
        "import torch\n",
        "from torch.utils.data import TensorDataset, DataLoader\n",
        "from torch import nn\n",
        "import torch.nn.functional as F\n",
        "from torch import optim"
      ],
      "execution_count": null,
      "outputs": []
    },
    {
      "cell_type": "markdown",
      "metadata": {
        "id": "wJRPj4DRDgNs"
      },
      "source": [
        "# 糖尿病　データセット"
      ]
    },
    {
      "cell_type": "code",
      "metadata": {
        "id": "1JLEqZVtDWrJ"
      },
      "source": [
        "# データセットのロード\n",
        "diabetes = load_diabetes()"
      ],
      "execution_count": null,
      "outputs": []
    },
    {
      "cell_type": "code",
      "metadata": {
        "colab": {
          "base_uri": "https://localhost:8080/"
        },
        "id": "M-68xPReDmND",
        "outputId": "f3f7e864-c71b-44b9-92b7-8d62df375eaa"
      },
      "source": [
        "# データセットの説明\n",
        "print(diabetes.DESCR)"
      ],
      "execution_count": null,
      "outputs": [
        {
          "output_type": "stream",
          "text": [
            ".. _diabetes_dataset:\n",
            "\n",
            "Diabetes dataset\n",
            "----------------\n",
            "\n",
            "Ten baseline variables, age, sex, body mass index, average blood\n",
            "pressure, and six blood serum measurements were obtained for each of n =\n",
            "442 diabetes patients, as well as the response of interest, a\n",
            "quantitative measure of disease progression one year after baseline.\n",
            "\n",
            "**Data Set Characteristics:**\n",
            "\n",
            "  :Number of Instances: 442\n",
            "\n",
            "  :Number of Attributes: First 10 columns are numeric predictive values\n",
            "\n",
            "  :Target: Column 11 is a quantitative measure of disease progression one year after baseline\n",
            "\n",
            "  :Attribute Information:\n",
            "      - age     age in years\n",
            "      - sex\n",
            "      - bmi     body mass index\n",
            "      - bp      average blood pressure\n",
            "      - s1      tc, T-Cells (a type of white blood cells)\n",
            "      - s2      ldl, low-density lipoproteins\n",
            "      - s3      hdl, high-density lipoproteins\n",
            "      - s4      tch, thyroid stimulating hormone\n",
            "      - s5      ltg, lamotrigine\n",
            "      - s6      glu, blood sugar level\n",
            "\n",
            "Note: Each of these 10 feature variables have been mean centered and scaled by the standard deviation times `n_samples` (i.e. the sum of squares of each column totals 1).\n",
            "\n",
            "Source URL:\n",
            "https://www4.stat.ncsu.edu/~boos/var.select/diabetes.html\n",
            "\n",
            "For more information see:\n",
            "Bradley Efron, Trevor Hastie, Iain Johnstone and Robert Tibshirani (2004) \"Least Angle Regression,\" Annals of Statistics (with discussion), 407-499.\n",
            "(https://web.stanford.edu/~hastie/Papers/LARS/LeastAngle_2002.pdf)\n"
          ],
          "name": "stdout"
        }
      ]
    },
    {
      "cell_type": "code",
      "metadata": {
        "colab": {
          "base_uri": "https://localhost:8080/"
        },
        "id": "ARsTCedTDn39",
        "outputId": "9d398759-2c11-41e7-8c77-4ded5eb09cbd"
      },
      "source": [
        "# データフレームに変換\n",
        "df = pd.DataFrame(diabetes.data, columns=diabetes.feature_names)\n",
        "# 1年後の進行度の追加\n",
        "df['target'] = diabetes.target\n",
        "print(df.head())"
      ],
      "execution_count": null,
      "outputs": [
        {
          "output_type": "stream",
          "text": [
            "        age       sex       bmi        bp  ...        s4        s5        s6  target\n",
            "0  0.038076  0.050680  0.061696  0.021872  ... -0.002592  0.019908 -0.017646   151.0\n",
            "1 -0.001882 -0.044642 -0.051474 -0.026328  ... -0.039493 -0.068330 -0.092204    75.0\n",
            "2  0.085299  0.050680  0.044451 -0.005671  ... -0.002592  0.002864 -0.025930   141.0\n",
            "3 -0.089063 -0.044642 -0.011595 -0.036656  ...  0.034309  0.022692 -0.009362   206.0\n",
            "4  0.005383 -0.044642 -0.036385  0.021872  ... -0.002592 -0.031991 -0.046641   135.0\n",
            "\n",
            "[5 rows x 11 columns]\n"
          ],
          "name": "stdout"
        }
      ]
    },
    {
      "cell_type": "code",
      "metadata": {
        "colab": {
          "base_uri": "https://localhost:8080/"
        },
        "id": "oYeyPkiOEaXe",
        "outputId": "8c2df29f-55ce-419b-b93d-4b90627d4323"
      },
      "source": [
        "print(df.describe())"
      ],
      "execution_count": null,
      "outputs": [
        {
          "output_type": "stream",
          "text": [
            "                age           sex  ...            s6      target\n",
            "count  4.420000e+02  4.420000e+02  ...  4.420000e+02  442.000000\n",
            "mean  -3.634285e-16  1.308343e-16  ... -3.412882e-16  152.133484\n",
            "std    4.761905e-02  4.761905e-02  ...  4.761905e-02   77.093005\n",
            "min   -1.072256e-01 -4.464164e-02  ... -1.377672e-01   25.000000\n",
            "25%   -3.729927e-02 -4.464164e-02  ... -3.317903e-02   87.000000\n",
            "50%    5.383060e-03 -4.464164e-02  ... -1.077698e-03  140.500000\n",
            "75%    3.807591e-02  5.068012e-02  ...  2.791705e-02  211.500000\n",
            "max    1.107267e-01  5.068012e-02  ...  1.356118e-01  346.000000\n",
            "\n",
            "[8 rows x 11 columns]\n"
          ],
          "name": "stdout"
        }
      ]
    },
    {
      "cell_type": "code",
      "metadata": {
        "colab": {
          "base_uri": "https://localhost:8080/",
          "height": 197
        },
        "id": "416e-WPJE0tx",
        "outputId": "06fb1687-5391-4238-909d-8a8c1759cc34"
      },
      "source": [
        "# データセットの可視化\n",
        "sns.pairplot(df, x_vars=diabetes.feature_names, y_vars='target')\n",
        "plt.show()"
      ],
      "execution_count": null,
      "outputs": [
        {
          "output_type": "display_data",
          "data": {
            "image/png": "[encoded data removed]",
            "text/plain": [
              "<Figure size 1800x180 with 10 Axes>"
            ]
          },
          "metadata": {
            "tags": [],
            "needs_background": "light"
          }
        }
      ]
    },
    {
      "cell_type": "markdown",
      "metadata": {
        "id": "R7meLGgdIrJH"
      },
      "source": [
        "# 前準備"
      ]
    },
    {
      "cell_type": "code",
      "metadata": {
        "colab": {
          "base_uri": "https://localhost:8080/"
        },
        "id": "Gcgn3C5uGvhF",
        "outputId": "541a1b42-6396-4179-aae0-36f0cc19d668"
      },
      "source": [
        "# データセットの読み込み\n",
        "diabetes = load_diabetes()\n",
        "data = diabetes.data #特徴量\n",
        "label = diabetes.target.reshape(-1, 1)  # 一年後の糖尿病の進行度\n",
        "\n",
        "# データセットのサイズの確認\n",
        "print(\"data size: {}\".format(data.shape))\n",
        "print(\"label size: {}\".format(label.shape))"
      ],
      "execution_count": null,
      "outputs": [
        {
          "output_type": "stream",
          "text": [
            "data size: (442, 10)\n",
            "label size: (442, 1)\n"
          ],
          "name": "stdout"
        }
      ]
    },
    {
      "cell_type": "markdown",
      "metadata": {
        "id": "cKQocQ0jLfWZ"
      },
      "source": [
        "# 訓練データとテストデータの用意"
      ]
    },
    {
      "cell_type": "code",
      "metadata": {
        "colab": {
          "base_uri": "https://localhost:8080/"
        },
        "id": "2FKelMzvLDy6",
        "outputId": "5e54f00f-9cbb-479e-d0f8-528e91c52d2e"
      },
      "source": [
        "# 学習データとテストデータを分割\n",
        "train_data, test_data, train_label, test_label = train_test_split(\n",
        "    data, label, test_size=0.2)\n",
        "\n",
        "# 学習データとテストデータのサイズの確認\n",
        "print(\"train_data size: {}\".format(len(train_data)))\n",
        "print(\"test_data size: {}\".format(len(test_data)))\n",
        "print(\"train_label size: {}\".format(len(train_label)))\n",
        "print(\"test_label size: {}\".format(len(test_label)))"
      ],
      "execution_count": null,
      "outputs": [
        {
          "output_type": "stream",
          "text": [
            "train_data size: 353\n",
            "test_data size: 89\n",
            "train_label size: 353\n",
            "test_label size: 89\n"
          ],
          "name": "stdout"
        }
      ]
    },
    {
      "cell_type": "code",
      "metadata": {
        "id": "PdlC3eckLrUS"
      },
      "source": [
        "# ndarrayをPyTorchのTensorに変換\n",
        "train_x = torch.Tensor(train_data)\n",
        "test_x = torch.Tensor(test_data)\n",
        "train_y = torch.Tensor(train_label)  # torch.float32のデータ型に\n",
        "test_y = torch.Tensor(test_label)  # torch.float32のデータ型に"
      ],
      "execution_count": null,
      "outputs": []
    },
    {
      "cell_type": "code",
      "metadata": {
        "id": "O4X8yR3VMcoi"
      },
      "source": [
        "# 特徴量とラベルを結合したデータセットを作成\n",
        "train_dataset = TensorDataset(train_x, train_y)\n",
        "test_dataset = TensorDataset(test_x, test_y)"
      ],
      "execution_count": null,
      "outputs": []
    },
    {
      "cell_type": "code",
      "metadata": {
        "colab": {
          "base_uri": "https://localhost:8080/"
        },
        "id": "ZGnw52VmMeJx",
        "outputId": "d2cec1f8-36f4-4ccc-917a-baa33fccf9fe"
      },
      "source": [
        "# ミニバッチサイズを指定したデータローダーを作成\n",
        "train_batch = DataLoader(\n",
        "    dataset=train_dataset,\n",
        "    batch_size=20,\n",
        "    shuffle=True,\n",
        "    num_workers=2\n",
        ")\n",
        "test_batch = DataLoader(\n",
        "    dataset=test_dataset,\n",
        "    batch_size=20,\n",
        "    shuffle=False,\n",
        "    num_workers=2\n",
        ")\n",
        "\n",
        "# ミニバッチデータセットの確認\n",
        "for data, label in train_batch:\n",
        "  print(\"batch data size: {}\".format(data.size()))\n",
        "  print(\"batch label size: {}\".format(label.size()))\n",
        "  break"
      ],
      "execution_count": null,
      "outputs": [
        {
          "output_type": "stream",
          "text": [
            "batch data size: torch.Size([20, 10])\n",
            "batch label size: torch.Size([20, 1])\n"
          ],
          "name": "stdout"
        }
      ]
    },
    {
      "cell_type": "markdown",
      "metadata": {
        "id": "83GuaXgPQ7qP"
      },
      "source": [
        "# ニューラルネットワークの定義"
      ]
    },
    {
      "cell_type": "code",
      "metadata": {
        "id": "SR-UtO0SQ1qR"
      },
      "source": [
        "class Net(nn.Module):\n",
        "  def __init__(self, D_in, H, D_out):\n",
        "    super(Net, self).__init__()\n",
        "    self.linear1 = nn.Linear(D_in, H)\n",
        "    self.linear2 = nn.Linear(H, H)\n",
        "    self.linear3 = nn.Linear(H, D_out)\n",
        "    self.dropout = nn.Dropout(p=0.5)\n",
        "\n",
        "  def forward(self, x):\n",
        "    x = F.relu(self.linear1(x))\n",
        "    x = F.relu(self.linear2(x))\n",
        "    x = F.relu(self.linear2(x))\n",
        "    x = self.dropout(x)\n",
        "    x = self.linear3(x)\n",
        "    return x"
      ],
      "execution_count": null,
      "outputs": []
    },
    {
      "cell_type": "code",
      "metadata": {
        "id": "IpA5MfAYP0RW"
      },
      "source": [
        "# ハイパーパラメータの定義\n",
        "D_in = 10  # 入力次元: 10\n",
        "H = 200  # 隠れ層次元: 200\n",
        "D_out = 1  # 出力次元: 1\n",
        "epoch = 100  # 学習回数: 100"
      ],
      "execution_count": null,
      "outputs": []
    },
    {
      "cell_type": "code",
      "metadata": {
        "colab": {
          "base_uri": "https://localhost:8080/"
        },
        "id": "G0wrzE9k_Bdf",
        "outputId": "37547fba-f133-4596-8643-6484b14602f0"
      },
      "source": [
        "# ネットワークのロード\n",
        "device = torch.device('cuda' if torch.cuda.is_available() else 'cpu')\n",
        "net = Net(D_in, H, D_out).to(device)\n",
        "# デバイスの確認\n",
        "print(\"Device: {}\".format(device))"
      ],
      "execution_count": null,
      "outputs": [
        {
          "output_type": "stream",
          "text": [
            "Device: cuda\n"
          ],
          "name": "stdout"
        }
      ]
    },
    {
      "cell_type": "markdown",
      "metadata": {
        "id": "-n1ACMDbAFD7"
      },
      "source": [
        "# 損失関数と最適化関数の定義"
      ]
    },
    {
      "cell_type": "code",
      "metadata": {
        "id": "WDCib_Ft_rZg"
      },
      "source": [
        "# 損失関数の定義\n",
        "criterion = nn.MSELoss()  # 今回の損失関数（平均二乗誤差: MSE）\n",
        "criterion2 = nn.L1Loss()  # 参考用（平均絶対誤差: MAE）\n",
        "\n",
        "# 最適化関数の定義\n",
        "optimizer = optim.Adam(net.parameters())"
      ],
      "execution_count": null,
      "outputs": []
    },
    {
      "cell_type": "markdown",
      "metadata": {
        "id": "OqRg48Y0A0Z6"
      },
      "source": [
        "# 学習"
      ]
    },
    {
      "cell_type": "code",
      "metadata": {
        "colab": {
          "base_uri": "https://localhost:8080/"
        },
        "id": "DJQ4VN0PAycg",
        "outputId": "74823954-b2ff-4fd4-fbdd-3b13a3c9b150"
      },
      "source": [
        "# 損失を保存するリストを作成\n",
        "train_loss_list = []  # 学習損失（MSE）\n",
        "test_loss_list = []  # 評価損失（MSE）\n",
        "train_mae_list = []  # 学習MAE\n",
        "test_mae_list = []  # 評価MAE\n",
        "\n",
        "# 学習（エポック）の実行\n",
        "for i in range(epoch):\n",
        "  print('-------------------------------------')\n",
        "  print(\"Epoch: {}/{}\".format(i+1, epoch))\n",
        "\n",
        "  train_loss = 0\n",
        "  test_loss = 0\n",
        "  train_mae = 0\n",
        "  test_mae = 0\n",
        "\n",
        "  #------------学習パート--------------#\n",
        "  net.train()\n",
        "  for data, label in train_batch:\n",
        "    data = data.to(device)\n",
        "    label = label.to(device)\n",
        "\n",
        "    optimizer.zero_grad() # 勾配を初期化\n",
        "    y_pred = net(data)  # データを入力して予測値を計算（順伝播）\n",
        "    loss = criterion(y_pred, label)  # MSE\n",
        "    mae = criterion2(y_pred, label)  # MAE\n",
        "\n",
        "    loss.backward()  # 勾配の計算（逆伝播）\n",
        "    optimizer.step()  #　パラメータ（重み）の更新\n",
        "    \n",
        "    train_loss += loss.item()\n",
        "    train_mae += mae.item()\n",
        "\n",
        "  batch_train_loss = train_loss / len(train_batch)\n",
        "  batch_train_mae = train_mae / len(train_batch)\n",
        "  #-----------学習パートここまで--------#\n",
        "\n",
        "  #------------評価パート--------------#\n",
        "  net.eval() # nnを評価モードに設定\n",
        "  with torch.no_grad():\n",
        "    for data, label in test_batch:\n",
        "      data = data.to(device)\n",
        "      label = label.to(device)\n",
        "      y_pred = net(data)  # データを入力して予測値を計算（順伝播）\n",
        "      loss = criterion(y_pred, label)\n",
        "      mae = criterion2(y_pred, label)\n",
        "\n",
        "      test_loss += loss.item()\n",
        "      test_mae += mae.item()\n",
        "\n",
        "  batch_test_loss = test_loss / len(test_batch)\n",
        "  batch_test_mae = test_mae / len(test_batch)\n",
        "  #--------------評価パートはここまで-------#\n",
        "\n",
        "  # エポックごとに損失を表示\n",
        "  print(\"Train_Loss: {:.4f} Train_MAE: {:.4f}\".format(\n",
        "      batch_train_loss, batch_train_mae))\n",
        "  print(\"Test_Loss: {:.4f} Test_MAE: {:.4f}\".format(\n",
        "      batch_test_loss, batch_test_mae))\n",
        "  # 損失をリスト化して保存\n",
        "  train_loss_list.append(batch_train_loss)\n",
        "  test_loss_list.append(batch_test_loss)\n",
        "  train_mae_list.append(batch_train_mae)\n",
        "  test_mae_list.append(batch_test_mae)\n",
        "\n",
        "\n"
      ],
      "execution_count": null,
      "outputs": [
        {
          "output_type": "stream",
          "text": [
            "-------------------------------------\n",
            "Epoch: 1/100\n",
            "Train_Loss: 29432.0596 Train_MAE: 153.8836\n",
            "Test_Loss: 26307.4723 Test_MAE: 139.7306\n",
            "-------------------------------------\n",
            "Epoch: 2/100\n",
            "Train_Loss: 27138.0400 Train_MAE: 146.5445\n",
            "Test_Loss: 22271.3297 Test_MAE: 124.5688\n",
            "-------------------------------------\n",
            "Epoch: 3/100\n",
            "Train_Loss: 18863.7991 Train_MAE: 113.7360\n",
            "Test_Loss: 10581.6377 Test_MAE: 74.8828\n",
            "-------------------------------------\n",
            "Epoch: 4/100\n",
            "Train_Loss: 6332.1348 Train_MAE: 64.7237\n",
            "Test_Loss: 7472.6787 Test_MAE: 77.3884\n",
            "-------------------------------------\n",
            "Epoch: 5/100\n",
            "Train_Loss: 5855.7411 Train_MAE: 65.5902\n",
            "Test_Loss: 5690.8690 Test_MAE: 64.5573\n",
            "-------------------------------------\n",
            "Epoch: 6/100\n",
            "Train_Loss: 4777.9549 Train_MAE: 57.8076\n",
            "Test_Loss: 5470.5526 Test_MAE: 63.2732\n",
            "-------------------------------------\n",
            "Epoch: 7/100\n",
            "Train_Loss: 4769.1018 Train_MAE: 59.0077\n",
            "Test_Loss: 5323.6993 Test_MAE: 62.5721\n",
            "-------------------------------------\n",
            "Epoch: 8/100\n",
            "Train_Loss: 4497.6422 Train_MAE: 56.1484\n",
            "Test_Loss: 5119.5192 Test_MAE: 60.8337\n",
            "-------------------------------------\n",
            "Epoch: 9/100\n",
            "Train_Loss: 4145.0729 Train_MAE: 53.7618\n",
            "Test_Loss: 4961.9543 Test_MAE: 59.4889\n",
            "-------------------------------------\n",
            "Epoch: 10/100\n",
            "Train_Loss: 4255.6316 Train_MAE: 55.0107\n",
            "Test_Loss: 4815.0967 Test_MAE: 58.1657\n",
            "-------------------------------------\n",
            "Epoch: 11/100\n",
            "Train_Loss: 3966.4245 Train_MAE: 52.8562\n",
            "Test_Loss: 4667.8121 Test_MAE: 56.7569\n",
            "-------------------------------------\n",
            "Epoch: 12/100\n",
            "Train_Loss: 4011.7299 Train_MAE: 52.9585\n",
            "Test_Loss: 4598.4009 Test_MAE: 56.3522\n",
            "-------------------------------------\n",
            "Epoch: 13/100\n",
            "Train_Loss: 4035.1920 Train_MAE: 53.2731\n",
            "Test_Loss: 4480.4411 Test_MAE: 55.1772\n",
            "-------------------------------------\n",
            "Epoch: 14/100\n",
            "Train_Loss: 3614.3405 Train_MAE: 50.2552\n",
            "Test_Loss: 4342.3916 Test_MAE: 53.8136\n",
            "-------------------------------------\n",
            "Epoch: 15/100\n",
            "Train_Loss: 3528.0054 Train_MAE: 49.2212\n",
            "Test_Loss: 4329.6937 Test_MAE: 54.0304\n",
            "-------------------------------------\n",
            "Epoch: 16/100\n",
            "Train_Loss: 3731.1238 Train_MAE: 51.6822\n",
            "Test_Loss: 4174.3897 Test_MAE: 52.0736\n",
            "-------------------------------------\n",
            "Epoch: 17/100\n",
            "Train_Loss: 3412.4222 Train_MAE: 47.6136\n",
            "Test_Loss: 4132.4213 Test_MAE: 52.3894\n",
            "-------------------------------------\n",
            "Epoch: 18/100\n",
            "Train_Loss: 3455.7419 Train_MAE: 48.8659\n",
            "Test_Loss: 4038.4484 Test_MAE: 51.3447\n",
            "-------------------------------------\n",
            "Epoch: 19/100\n",
            "Train_Loss: 3622.2201 Train_MAE: 49.7385\n",
            "Test_Loss: 4001.1534 Test_MAE: 51.4138\n",
            "-------------------------------------\n",
            "Epoch: 20/100\n",
            "Train_Loss: 3542.0376 Train_MAE: 48.0569\n",
            "Test_Loss: 3983.6507 Test_MAE: 51.4974\n",
            "-------------------------------------\n",
            "Epoch: 21/100\n",
            "Train_Loss: 3375.9803 Train_MAE: 48.2566\n",
            "Test_Loss: 3878.0046 Test_MAE: 49.4579\n",
            "-------------------------------------\n",
            "Epoch: 22/100\n",
            "Train_Loss: 3404.8005 Train_MAE: 47.8859\n",
            "Test_Loss: 3861.2758 Test_MAE: 50.5020\n",
            "-------------------------------------\n",
            "Epoch: 23/100\n",
            "Train_Loss: 3182.8451 Train_MAE: 46.7020\n",
            "Test_Loss: 3779.9330 Test_MAE: 49.4508\n",
            "-------------------------------------\n",
            "Epoch: 24/100\n",
            "Train_Loss: 3266.4640 Train_MAE: 47.0403\n",
            "Test_Loss: 3783.0986 Test_MAE: 49.9586\n",
            "-------------------------------------\n",
            "Epoch: 25/100\n",
            "Train_Loss: 3288.3247 Train_MAE: 47.2139\n",
            "Test_Loss: 3711.3614 Test_MAE: 48.9513\n",
            "-------------------------------------\n",
            "Epoch: 26/100\n",
            "Train_Loss: 3607.0470 Train_MAE: 48.7831\n",
            "Test_Loss: 3684.7914 Test_MAE: 48.8977\n",
            "-------------------------------------\n",
            "Epoch: 27/100\n",
            "Train_Loss: 3305.3787 Train_MAE: 46.9924\n",
            "Test_Loss: 3661.5002 Test_MAE: 48.1715\n",
            "-------------------------------------\n",
            "Epoch: 28/100\n",
            "Train_Loss: 3369.4384 Train_MAE: 47.2223\n",
            "Test_Loss: 3649.2588 Test_MAE: 48.6949\n",
            "-------------------------------------\n",
            "Epoch: 29/100\n",
            "Train_Loss: 3300.1627 Train_MAE: 47.0256\n",
            "Test_Loss: 3642.1617 Test_MAE: 47.7199\n",
            "-------------------------------------\n",
            "Epoch: 30/100\n",
            "Train_Loss: 2953.8376 Train_MAE: 43.8531\n",
            "Test_Loss: 3628.8795 Test_MAE: 48.6256\n",
            "-------------------------------------\n",
            "Epoch: 31/100\n",
            "Train_Loss: 3423.4231 Train_MAE: 47.2764\n",
            "Test_Loss: 3604.7159 Test_MAE: 47.4705\n",
            "-------------------------------------\n",
            "Epoch: 32/100\n",
            "Train_Loss: 3086.6853 Train_MAE: 44.7005\n",
            "Test_Loss: 3608.1077 Test_MAE: 48.4985\n",
            "-------------------------------------\n",
            "Epoch: 33/100\n",
            "Train_Loss: 3149.2739 Train_MAE: 44.8938\n",
            "Test_Loss: 3561.5938 Test_MAE: 47.9753\n",
            "-------------------------------------\n",
            "Epoch: 34/100\n",
            "Train_Loss: 3214.9886 Train_MAE: 45.6813\n",
            "Test_Loss: 3539.1178 Test_MAE: 47.5207\n",
            "-------------------------------------\n",
            "Epoch: 35/100\n",
            "Train_Loss: 3086.6332 Train_MAE: 44.7043\n",
            "Test_Loss: 3567.3824 Test_MAE: 48.1752\n",
            "-------------------------------------\n",
            "Epoch: 36/100\n",
            "Train_Loss: 3323.2281 Train_MAE: 46.4393\n",
            "Test_Loss: 3553.5908 Test_MAE: 48.0627\n",
            "-------------------------------------\n",
            "Epoch: 37/100\n",
            "Train_Loss: 3135.3714 Train_MAE: 45.4565\n",
            "Test_Loss: 3532.9850 Test_MAE: 47.3238\n",
            "-------------------------------------\n",
            "Epoch: 38/100\n",
            "Train_Loss: 3156.1753 Train_MAE: 45.6626\n",
            "Test_Loss: 3547.3723 Test_MAE: 47.9600\n",
            "-------------------------------------\n",
            "Epoch: 39/100\n",
            "Train_Loss: 3201.4341 Train_MAE: 45.8649\n",
            "Test_Loss: 3521.3181 Test_MAE: 47.4797\n",
            "-------------------------------------\n",
            "Epoch: 40/100\n",
            "Train_Loss: 3104.7202 Train_MAE: 45.6334\n",
            "Test_Loss: 3519.4668 Test_MAE: 47.5049\n",
            "-------------------------------------\n",
            "Epoch: 41/100\n",
            "Train_Loss: 3055.8610 Train_MAE: 44.8877\n",
            "Test_Loss: 3518.7161 Test_MAE: 47.5324\n",
            "-------------------------------------\n",
            "Epoch: 42/100\n",
            "Train_Loss: 2945.1903 Train_MAE: 43.6362\n",
            "Test_Loss: 3500.3086 Test_MAE: 47.3012\n",
            "-------------------------------------\n",
            "Epoch: 43/100\n",
            "Train_Loss: 3150.2645 Train_MAE: 44.7230\n",
            "Test_Loss: 3493.7488 Test_MAE: 46.9218\n",
            "-------------------------------------\n",
            "Epoch: 44/100\n",
            "Train_Loss: 3041.0709 Train_MAE: 44.2467\n",
            "Test_Loss: 3533.4876 Test_MAE: 47.7529\n",
            "-------------------------------------\n",
            "Epoch: 45/100\n",
            "Train_Loss: 3019.0921 Train_MAE: 44.5035\n",
            "Test_Loss: 3483.4019 Test_MAE: 46.9854\n",
            "-------------------------------------\n",
            "Epoch: 46/100\n",
            "Train_Loss: 3132.8145 Train_MAE: 45.0071\n",
            "Test_Loss: 3531.1038 Test_MAE: 47.5971\n",
            "-------------------------------------\n",
            "Epoch: 47/100\n",
            "Train_Loss: 2925.4855 Train_MAE: 44.0736\n",
            "Test_Loss: 3501.5882 Test_MAE: 46.9316\n",
            "-------------------------------------\n",
            "Epoch: 48/100\n",
            "Train_Loss: 3298.4663 Train_MAE: 46.5294\n",
            "Test_Loss: 3515.4822 Test_MAE: 47.3366\n",
            "-------------------------------------\n",
            "Epoch: 49/100\n",
            "Train_Loss: 3192.2476 Train_MAE: 45.5515\n",
            "Test_Loss: 3505.5395 Test_MAE: 47.0323\n",
            "-------------------------------------\n",
            "Epoch: 50/100\n",
            "Train_Loss: 2953.4650 Train_MAE: 43.4806\n",
            "Test_Loss: 3514.0379 Test_MAE: 47.0689\n",
            "-------------------------------------\n",
            "Epoch: 51/100\n",
            "Train_Loss: 3091.7235 Train_MAE: 44.3680\n",
            "Test_Loss: 3529.4713 Test_MAE: 47.4781\n",
            "-------------------------------------\n",
            "Epoch: 52/100\n",
            "Train_Loss: 3001.6607 Train_MAE: 44.3521\n",
            "Test_Loss: 3534.5023 Test_MAE: 47.5386\n",
            "-------------------------------------\n",
            "Epoch: 53/100\n",
            "Train_Loss: 2993.4488 Train_MAE: 44.6270\n",
            "Test_Loss: 3629.7426 Test_MAE: 48.6548\n",
            "-------------------------------------\n",
            "Epoch: 54/100\n",
            "Train_Loss: 3034.4646 Train_MAE: 44.8138\n",
            "Test_Loss: 3522.9298 Test_MAE: 47.0300\n",
            "-------------------------------------\n",
            "Epoch: 55/100\n",
            "Train_Loss: 2911.2649 Train_MAE: 43.3990\n",
            "Test_Loss: 3519.6228 Test_MAE: 47.0311\n",
            "-------------------------------------\n",
            "Epoch: 56/100\n",
            "Train_Loss: 3054.6450 Train_MAE: 44.8825\n",
            "Test_Loss: 3524.7288 Test_MAE: 47.2110\n",
            "-------------------------------------\n",
            "Epoch: 57/100\n",
            "Train_Loss: 2944.8234 Train_MAE: 43.8356\n",
            "Test_Loss: 3602.1024 Test_MAE: 48.3268\n",
            "-------------------------------------\n",
            "Epoch: 58/100\n",
            "Train_Loss: 2893.9617 Train_MAE: 43.3286\n",
            "Test_Loss: 3523.3079 Test_MAE: 47.4817\n",
            "-------------------------------------\n",
            "Epoch: 59/100\n",
            "Train_Loss: 2973.0101 Train_MAE: 43.4623\n",
            "Test_Loss: 3521.5647 Test_MAE: 46.9781\n",
            "-------------------------------------\n",
            "Epoch: 60/100\n",
            "Train_Loss: 2776.9329 Train_MAE: 42.8337\n",
            "Test_Loss: 3556.3987 Test_MAE: 47.8900\n",
            "-------------------------------------\n",
            "Epoch: 61/100\n",
            "Train_Loss: 3010.7128 Train_MAE: 43.8376\n",
            "Test_Loss: 3521.6079 Test_MAE: 47.1980\n",
            "-------------------------------------\n",
            "Epoch: 62/100\n",
            "Train_Loss: 2933.9790 Train_MAE: 43.7680\n",
            "Test_Loss: 3538.0906 Test_MAE: 47.6923\n",
            "-------------------------------------\n",
            "Epoch: 63/100\n",
            "Train_Loss: 2940.5786 Train_MAE: 43.5436\n",
            "Test_Loss: 3536.6324 Test_MAE: 47.3558\n",
            "-------------------------------------\n",
            "Epoch: 64/100\n",
            "Train_Loss: 3003.8690 Train_MAE: 44.4398\n",
            "Test_Loss: 3538.7621 Test_MAE: 47.6087\n",
            "-------------------------------------\n",
            "Epoch: 65/100\n",
            "Train_Loss: 3119.3267 Train_MAE: 44.5917\n",
            "Test_Loss: 3585.7225 Test_MAE: 48.2931\n",
            "-------------------------------------\n",
            "Epoch: 66/100\n",
            "Train_Loss: 3131.6108 Train_MAE: 45.3490\n",
            "Test_Loss: 3536.0966 Test_MAE: 47.2610\n",
            "-------------------------------------\n",
            "Epoch: 67/100\n",
            "Train_Loss: 3047.1597 Train_MAE: 44.8965\n",
            "Test_Loss: 3524.2948 Test_MAE: 47.2702\n",
            "-------------------------------------\n",
            "Epoch: 68/100\n",
            "Train_Loss: 2785.7149 Train_MAE: 42.2000\n",
            "Test_Loss: 3522.6370 Test_MAE: 47.2419\n",
            "-------------------------------------\n",
            "Epoch: 69/100\n",
            "Train_Loss: 3017.3773 Train_MAE: 44.6526\n",
            "Test_Loss: 3524.6572 Test_MAE: 47.0498\n",
            "-------------------------------------\n",
            "Epoch: 70/100\n",
            "Train_Loss: 2994.6061 Train_MAE: 43.3743\n",
            "Test_Loss: 3548.2325 Test_MAE: 47.6959\n",
            "-------------------------------------\n",
            "Epoch: 71/100\n",
            "Train_Loss: 2979.1869 Train_MAE: 43.6011\n",
            "Test_Loss: 3538.9799 Test_MAE: 47.4139\n",
            "-------------------------------------\n",
            "Epoch: 72/100\n",
            "Train_Loss: 3022.8442 Train_MAE: 44.5429\n",
            "Test_Loss: 3659.2286 Test_MAE: 47.3252\n",
            "-------------------------------------\n",
            "Epoch: 73/100\n",
            "Train_Loss: 3064.6801 Train_MAE: 44.7837\n",
            "Test_Loss: 3643.7198 Test_MAE: 48.3716\n",
            "-------------------------------------\n",
            "Epoch: 74/100\n",
            "Train_Loss: 3027.7841 Train_MAE: 44.5117\n",
            "Test_Loss: 3543.9533 Test_MAE: 47.1518\n",
            "-------------------------------------\n",
            "Epoch: 75/100\n",
            "Train_Loss: 3047.3158 Train_MAE: 45.3607\n",
            "Test_Loss: 3549.2796 Test_MAE: 47.2371\n",
            "-------------------------------------\n",
            "Epoch: 76/100\n",
            "Train_Loss: 3069.4578 Train_MAE: 44.8241\n",
            "Test_Loss: 3566.1418 Test_MAE: 47.4303\n",
            "-------------------------------------\n",
            "Epoch: 77/100\n",
            "Train_Loss: 3010.8646 Train_MAE: 44.0982\n",
            "Test_Loss: 3622.5514 Test_MAE: 48.4201\n",
            "-------------------------------------\n",
            "Epoch: 78/100\n",
            "Train_Loss: 2824.2337 Train_MAE: 42.7517\n",
            "Test_Loss: 3569.1715 Test_MAE: 47.6265\n",
            "-------------------------------------\n",
            "Epoch: 79/100\n",
            "Train_Loss: 3104.9144 Train_MAE: 44.9073\n",
            "Test_Loss: 3560.2906 Test_MAE: 47.3080\n",
            "-------------------------------------\n",
            "Epoch: 80/100\n",
            "Train_Loss: 2748.8960 Train_MAE: 42.2653\n",
            "Test_Loss: 3574.5107 Test_MAE: 47.7896\n",
            "-------------------------------------\n",
            "Epoch: 81/100\n",
            "Train_Loss: 2937.0319 Train_MAE: 43.5383\n",
            "Test_Loss: 3577.9812 Test_MAE: 47.5124\n",
            "-------------------------------------\n",
            "Epoch: 82/100\n",
            "Train_Loss: 2951.7203 Train_MAE: 43.1484\n",
            "Test_Loss: 3591.7700 Test_MAE: 48.0383\n",
            "-------------------------------------\n",
            "Epoch: 83/100\n",
            "Train_Loss: 2907.0280 Train_MAE: 42.7357\n",
            "Test_Loss: 3578.0372 Test_MAE: 47.7150\n",
            "-------------------------------------\n",
            "Epoch: 84/100\n",
            "Train_Loss: 2880.7106 Train_MAE: 43.2377\n",
            "Test_Loss: 3581.6796 Test_MAE: 47.6918\n",
            "-------------------------------------\n",
            "Epoch: 85/100\n",
            "Train_Loss: 2821.4484 Train_MAE: 42.7592\n",
            "Test_Loss: 3582.4276 Test_MAE: 47.3501\n",
            "-------------------------------------\n",
            "Epoch: 86/100\n",
            "Train_Loss: 2849.3752 Train_MAE: 42.8909\n",
            "Test_Loss: 3595.6607 Test_MAE: 48.1006\n",
            "-------------------------------------\n",
            "Epoch: 87/100\n",
            "Train_Loss: 2891.9749 Train_MAE: 43.5902\n",
            "Test_Loss: 3585.7452 Test_MAE: 47.8767\n",
            "-------------------------------------\n",
            "Epoch: 88/100\n",
            "Train_Loss: 2743.9860 Train_MAE: 41.7024\n",
            "Test_Loss: 3586.0961 Test_MAE: 47.5905\n",
            "-------------------------------------\n",
            "Epoch: 89/100\n",
            "Train_Loss: 2872.5995 Train_MAE: 42.7477\n",
            "Test_Loss: 3622.3967 Test_MAE: 48.3609\n",
            "-------------------------------------\n",
            "Epoch: 90/100\n",
            "Train_Loss: 2863.2651 Train_MAE: 43.3197\n",
            "Test_Loss: 3592.8268 Test_MAE: 47.7326\n",
            "-------------------------------------\n",
            "Epoch: 91/100\n",
            "Train_Loss: 2892.9512 Train_MAE: 42.7569\n",
            "Test_Loss: 3615.0238 Test_MAE: 47.9209\n",
            "-------------------------------------\n",
            "Epoch: 92/100\n",
            "Train_Loss: 2802.0174 Train_MAE: 42.2414\n",
            "Test_Loss: 3616.5978 Test_MAE: 47.6369\n",
            "-------------------------------------\n",
            "Epoch: 93/100\n",
            "Train_Loss: 2927.8698 Train_MAE: 42.8785\n",
            "Test_Loss: 3658.0358 Test_MAE: 48.5410\n",
            "-------------------------------------\n",
            "Epoch: 94/100\n",
            "Train_Loss: 2933.4902 Train_MAE: 43.6198\n",
            "Test_Loss: 3634.6962 Test_MAE: 48.2667\n",
            "-------------------------------------\n",
            "Epoch: 95/100\n",
            "Train_Loss: 2822.9862 Train_MAE: 42.7846\n",
            "Test_Loss: 3631.8103 Test_MAE: 47.9809\n",
            "-------------------------------------\n",
            "Epoch: 96/100\n",
            "Train_Loss: 2995.6426 Train_MAE: 43.6436\n",
            "Test_Loss: 3628.6973 Test_MAE: 48.1254\n",
            "-------------------------------------\n",
            "Epoch: 97/100\n",
            "Train_Loss: 2921.5652 Train_MAE: 43.6614\n",
            "Test_Loss: 3644.5204 Test_MAE: 47.7736\n",
            "-------------------------------------\n",
            "Epoch: 98/100\n",
            "Train_Loss: 2984.7845 Train_MAE: 43.7118\n",
            "Test_Loss: 3658.1847 Test_MAE: 48.4846\n",
            "-------------------------------------\n",
            "Epoch: 99/100\n",
            "Train_Loss: 2663.4895 Train_MAE: 41.6012\n",
            "Test_Loss: 3642.4176 Test_MAE: 47.8966\n",
            "-------------------------------------\n",
            "Epoch: 100/100\n",
            "Train_Loss: 2929.6257 Train_MAE: 43.0566\n",
            "Test_Loss: 3620.9050 Test_MAE: 47.7586\n"
          ],
          "name": "stdout"
        }
      ]
    },
    {
      "cell_type": "markdown",
      "metadata": {
        "id": "rUfoHBAILbnA"
      },
      "source": [
        "# 結果の可視化"
      ]
    },
    {
      "cell_type": "code",
      "metadata": {
        "colab": {
          "base_uri": "https://localhost:8080/",
          "height": 573
        },
        "id": "N0pEtUAELNHx",
        "outputId": "95400e0d-92c5-4e3a-8f55-c5b550003cc0"
      },
      "source": [
        "# 損失(MSE)\n",
        "plt.figure()\n",
        "plt.title('Train and Test Loss')\n",
        "plt.xlabel('Epoch')\n",
        "plt.ylabel('Loss')\n",
        "plt.plot(range(1, epoch+1), train_loss_list, color='blue',\n",
        "         linestyle='-', label='Train_Loss')\n",
        "plt.plot(range(1,epoch+1), test_loss_list, color='red',\n",
        "         linestyle='--', label='Test_Loss')\n",
        "plt.legend()\n",
        "\n",
        "# MAE\n",
        "plt.figure()\n",
        "plt.title('Train and Test MAE')\n",
        "plt.xlabel('Epoch')\n",
        "plt.ylabel('MAE')\n",
        "plt.plot(range(1, epoch+1), train_mae_list, color='blue',\n",
        "         linestyle='-', label='Train_MAE')\n",
        "plt.plot(range(1, epoch+1), test_mae_list, color='red',\n",
        "         linestyle='--', label='Test_MAE')\n",
        "plt.legend()  # 凡例\n",
        "\n",
        "# 表示\n",
        "plt.show()"
      ],
      "execution_count": null,
      "outputs": [
        {
          "output_type": "display_data",
          "data": {
            "image/png": "[encoded data removed]",
            "text/plain": [
              "<Figure size 432x288 with 1 Axes>"
            ]
          },
          "metadata": {
            "tags": [],
            "needs_background": "light"
          }
        },
        {
          "output_type": "display_data",
          "data": {
            "image/png": "[encoded data removed]",
            "text/plain": [
              "<Figure size 432x288 with 1 Axes>"
            ]
          },
          "metadata": {
            "tags": [],
            "needs_background": "light"
          }
        }
      ]
    },
    {
      "cell_type": "code",
      "metadata": {
        "id": "hpaFWwaRN6nV"
      },
      "source": [
        ""
      ],
      "execution_count": null,
      "outputs": []
    }
  ]
}