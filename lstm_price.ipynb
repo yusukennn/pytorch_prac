{
  "nbformat": 4,
  "nbformat_minor": 0,
  "metadata": {
    "colab": {
      "name": "lstm_price.ipynb",
      "provenance": [],
      "mount_file_id": "1hnq8H1RLT_vHHF3Hyhw-XlBwQm1QepF9",
      "authorship_tag": "ABX9TyOk698M/Z++UWugk6Qv5Oj6",
      "include_colab_link": true
    },
    "kernelspec": {
      "name": "python3",
      "display_name": "Python 3"
    },
    "accelerator": "GPU"
  },
  "cells": [
    {
      "cell_type": "markdown",
      "metadata": {
        "id": "view-in-github",
        "colab_type": "text"
      },
      "source": [
        "<a href=\"https://colab.research.google.com/github/yusukennn/pytorch_prac/blob/main/lstm_price.ipynb\" target=\"_parent\"><img src=\"https://colab.research.google.com/assets/colab-badge.svg\" alt=\"Open In Colab\"/></a>"
      ]
    },
    {
      "cell_type": "code",
      "metadata": {
        "colab": {
          "base_uri": "https://localhost:8080/"
        },
        "id": "OmgTR1Q1PNc8",
        "outputId": "e513c210-6a3b-4ca6-9eb4-04e1c8615c14"
      },
      "source": [
        "# 必要なパッケージのインストール\n",
        "!pip3 install torch==1.6.0+cu101\n",
        "!pip3 install torchvision==0.7.0+cu101\n",
        "!pip3 install numpy==1.18.5\n",
        "!pip3 install matplotlib==3.2.2\n",
        "!pip3 install scikit-learn==0.23.1\n",
        "!pip3 install seaborn==0.11.0"
      ],
      "execution_count": 57,
      "outputs": [
        {
          "output_type": "stream",
          "text": [
            "\u001b[31mERROR: Could not find a version that satisfies the requirement torch==1.6.0+cu101 (from versions: 0.1.2, 0.1.2.post1, 0.1.2.post2, 0.3.1, 0.4.0, 0.4.1, 1.0.0, 1.0.1, 1.0.1.post2, 1.1.0, 1.2.0, 1.3.0, 1.3.1, 1.4.0, 1.5.0, 1.5.1, 1.6.0, 1.7.0, 1.7.1)\u001b[0m\n",
            "\u001b[31mERROR: No matching distribution found for torch==1.6.0+cu101\u001b[0m\n",
            "\u001b[31mERROR: Could not find a version that satisfies the requirement torchvision==0.7.0+cu101 (from versions: 0.1.6, 0.1.7, 0.1.8, 0.1.9, 0.2.0, 0.2.1, 0.2.2, 0.2.2.post2, 0.2.2.post3, 0.3.0, 0.4.0, 0.4.1, 0.4.2, 0.5.0, 0.6.0, 0.6.1, 0.7.0, 0.8.0, 0.8.1, 0.8.2)\u001b[0m\n",
            "\u001b[31mERROR: No matching distribution found for torchvision==0.7.0+cu101\u001b[0m\n",
            "Requirement already satisfied: numpy==1.18.5 in /usr/local/lib/python3.6/dist-packages (1.18.5)\n",
            "Requirement already satisfied: matplotlib==3.2.2 in /usr/local/lib/python3.6/dist-packages (3.2.2)\n",
            "Requirement already satisfied: pyparsing!=2.0.4,!=2.1.2,!=2.1.6,>=2.0.1 in /usr/local/lib/python3.6/dist-packages (from matplotlib==3.2.2) (2.4.7)\n",
            "Requirement already satisfied: cycler>=0.10 in /usr/local/lib/python3.6/dist-packages (from matplotlib==3.2.2) (0.10.0)\n",
            "Requirement already satisfied: kiwisolver>=1.0.1 in /usr/local/lib/python3.6/dist-packages (from matplotlib==3.2.2) (1.3.1)\n",
            "Requirement already satisfied: numpy>=1.11 in /usr/local/lib/python3.6/dist-packages (from matplotlib==3.2.2) (1.18.5)\n",
            "Requirement already satisfied: python-dateutil>=2.1 in /usr/local/lib/python3.6/dist-packages (from matplotlib==3.2.2) (2.8.1)\n",
            "Requirement already satisfied: six in /usr/local/lib/python3.6/dist-packages (from cycler>=0.10->matplotlib==3.2.2) (1.15.0)\n",
            "Requirement already satisfied: scikit-learn==0.23.1 in /usr/local/lib/python3.6/dist-packages (0.23.1)\n",
            "Requirement already satisfied: threadpoolctl>=2.0.0 in /usr/local/lib/python3.6/dist-packages (from scikit-learn==0.23.1) (2.1.0)\n",
            "Requirement already satisfied: numpy>=1.13.3 in /usr/local/lib/python3.6/dist-packages (from scikit-learn==0.23.1) (1.18.5)\n",
            "Requirement already satisfied: joblib>=0.11 in /usr/local/lib/python3.6/dist-packages (from scikit-learn==0.23.1) (1.0.0)\n",
            "Requirement already satisfied: scipy>=0.19.1 in /usr/local/lib/python3.6/dist-packages (from scikit-learn==0.23.1) (1.4.1)\n",
            "Requirement already satisfied: seaborn==0.11.0 in /usr/local/lib/python3.6/dist-packages (0.11.0)\n",
            "Requirement already satisfied: matplotlib>=2.2 in /usr/local/lib/python3.6/dist-packages (from seaborn==0.11.0) (3.2.2)\n",
            "Requirement already satisfied: scipy>=1.0 in /usr/local/lib/python3.6/dist-packages (from seaborn==0.11.0) (1.4.1)\n",
            "Requirement already satisfied: pandas>=0.23 in /usr/local/lib/python3.6/dist-packages (from seaborn==0.11.0) (1.1.5)\n",
            "Requirement already satisfied: numpy>=1.15 in /usr/local/lib/python3.6/dist-packages (from seaborn==0.11.0) (1.18.5)\n",
            "Requirement already satisfied: cycler>=0.10 in /usr/local/lib/python3.6/dist-packages (from matplotlib>=2.2->seaborn==0.11.0) (0.10.0)\n",
            "Requirement already satisfied: python-dateutil>=2.1 in /usr/local/lib/python3.6/dist-packages (from matplotlib>=2.2->seaborn==0.11.0) (2.8.1)\n",
            "Requirement already satisfied: kiwisolver>=1.0.1 in /usr/local/lib/python3.6/dist-packages (from matplotlib>=2.2->seaborn==0.11.0) (1.3.1)\n",
            "Requirement already satisfied: pyparsing!=2.0.4,!=2.1.2,!=2.1.6,>=2.0.1 in /usr/local/lib/python3.6/dist-packages (from matplotlib>=2.2->seaborn==0.11.0) (2.4.7)\n",
            "Requirement already satisfied: pytz>=2017.2 in /usr/local/lib/python3.6/dist-packages (from pandas>=0.23->seaborn==0.11.0) (2018.9)\n",
            "Requirement already satisfied: six in /usr/local/lib/python3.6/dist-packages (from cycler>=0.10->matplotlib>=2.2->seaborn==0.11.0) (1.15.0)\n"
          ],
          "name": "stdout"
        }
      ]
    },
    {
      "cell_type": "code",
      "metadata": {
        "id": "b_G_AARhPwMY"
      },
      "source": [
        "# 必要なパッケージのインストール\n",
        "import numpy as np\n",
        "import pandas as pd\n",
        "import matplotlib.pyplot as plt\n",
        "from sklearn.preprocessing import StandardScaler\n",
        "from sklearn.metrics import mean_absolute_error\n",
        "import torch\n",
        "from torch.utils.data import TensorDataset, DataLoader\n",
        "from torch import nn\n",
        "import torch.nn.functional as F\n",
        "from torch import optim"
      ],
      "execution_count": 58,
      "outputs": []
    },
    {
      "cell_type": "code",
      "metadata": {
        "id": "b8WYgDmzP1LU"
      },
      "source": [
        "from google.colab import files"
      ],
      "execution_count": 59,
      "outputs": []
    },
    {
      "cell_type": "code",
      "metadata": {
        "colab": {
          "base_uri": "https://localhost:8080/"
        },
        "id": "SKnmoSZEQP4x",
        "outputId": "51517903-2004-49c0-a889-17597c10bd7a"
      },
      "source": [
        "dataset = pd.read_csv('/content/drive/MyDrive/Colab Notebooks/pytorch_begin/prices.csv')\n",
        "print(dataset.head())"
      ],
      "execution_count": 60,
      "outputs": [
        {
          "output_type": "stream",
          "text": [
            "                  date symbol        open  ...         low        high     volume\n",
            "0  2016-01-05 00:00:00   WLTW  123.430000  ...  122.309998  126.250000  2163600.0\n",
            "1  2016-01-06 00:00:00   WLTW  125.239998  ...  119.940002  125.540001  2386400.0\n",
            "2  2016-01-07 00:00:00   WLTW  116.379997  ...  114.930000  119.739998  2489500.0\n",
            "3  2016-01-08 00:00:00   WLTW  115.480003  ...  113.500000  117.440002  2006300.0\n",
            "4  2016-01-11 00:00:00   WLTW  117.010002  ...  114.089996  117.330002  1408600.0\n",
            "\n",
            "[5 rows x 7 columns]\n"
          ],
          "name": "stdout"
        }
      ]
    },
    {
      "cell_type": "code",
      "metadata": {
        "colab": {
          "base_uri": "https://localhost:8080/"
        },
        "id": "nB-JjGGRRG1f",
        "outputId": "36058f1f-1b86-48cc-cf3a-c0a294e6300a"
      },
      "source": [
        "# 銘柄(symbol)の確認\n",
        "symbols = list(set(dataset.symbol))\n",
        "len(\"The number of symbols: {}\".format(symbols))\n",
        "print(symbols[:10]) # 10件の銘柄を表示"
      ],
      "execution_count": 61,
      "outputs": [
        {
          "output_type": "stream",
          "text": [
            "['ULTA', 'PVH', 'HOLX', 'SPG', 'DTE', 'HPQ', 'SLG', 'TDC', 'BXP', 'NFX']\n"
          ],
          "name": "stdout"
        }
      ]
    },
    {
      "cell_type": "code",
      "metadata": {
        "colab": {
          "base_uri": "https://localhost:8080/"
        },
        "id": "czFihLLXUsua",
        "outputId": "aa9e7bd0-f1c6-40a9-cf25-a3c46190e9be"
      },
      "source": [
        "# ヤフーのみを抽出\n",
        "dataset = dataset[dataset['symbol'] == 'YHOO']\n",
        "print(dataset.head())"
      ],
      "execution_count": 62,
      "outputs": [
        {
          "output_type": "stream",
          "text": [
            "            date symbol       open      close        low       high      volume\n",
            "713   2010-01-04   YHOO  16.940001  17.100000  16.879999  17.200001  16587400.0\n",
            "1181  2010-01-05   YHOO  17.219999  17.230000  17.000000  17.230000  11718100.0\n",
            "1649  2010-01-06   YHOO  17.170000  17.170000  17.070000  17.299999  16422000.0\n",
            "2117  2010-01-07   YHOO  16.809999  16.700001  16.570000  16.900000  31816300.0\n",
            "2585  2010-01-08   YHOO  16.680000  16.700001  16.620001  16.760000  15470000.0\n"
          ],
          "name": "stdout"
        }
      ]
    },
    {
      "cell_type": "code",
      "metadata": {
        "colab": {
          "base_uri": "https://localhost:8080/"
        },
        "id": "xogTEMtsVE8t",
        "outputId": "2c6a3e4b-2c11-466f-ed8b-be2d68fd2032"
      },
      "source": [
        "# 始値(open)、安値(low)、高値(high)、出来高(volume)を消して、終値(close)のみを残す\n",
        "dataset = dataset.drop(['open', 'low', 'high', 'volume'], axis=1)\n",
        "print(dataset.head())"
      ],
      "execution_count": 63,
      "outputs": [
        {
          "output_type": "stream",
          "text": [
            "            date symbol      close\n",
            "713   2010-01-04   YHOO  17.100000\n",
            "1181  2010-01-05   YHOO  17.230000\n",
            "1649  2010-01-06   YHOO  17.170000\n",
            "2117  2010-01-07   YHOO  16.700001\n",
            "2585  2010-01-08   YHOO  16.700001\n"
          ],
          "name": "stdout"
        }
      ]
    },
    {
      "cell_type": "code",
      "metadata": {
        "colab": {
          "base_uri": "https://localhost:8080/"
        },
        "id": "nmwh1UVGXGVK",
        "outputId": "41fc0206-7859-4dbf-ef02-a45a09176f5c"
      },
      "source": [
        "# 終値の25日移動平均（25MA）を算出\n",
        "dataset['25MA'] = dataset['close'].rolling(window=25, min_periods=0).mean()\n",
        "print(dataset.head())"
      ],
      "execution_count": 64,
      "outputs": [
        {
          "output_type": "stream",
          "text": [
            "            date symbol      close       25MA\n",
            "713   2010-01-04   YHOO  17.100000  17.100000\n",
            "1181  2010-01-05   YHOO  17.230000  17.165000\n",
            "1649  2010-01-06   YHOO  17.170000  17.166667\n",
            "2117  2010-01-07   YHOO  16.700001  17.050000\n",
            "2585  2010-01-08   YHOO  16.700001  16.980000\n"
          ],
          "name": "stdout"
        }
      ]
    },
    {
      "cell_type": "code",
      "metadata": {
        "colab": {
          "base_uri": "https://localhost:8080/"
        },
        "id": "R7SQYt8kY7Gu",
        "outputId": "0d01be3d-88af-4829-f5f0-a282180a24d8"
      },
      "source": [
        "# 日付(date)をobject型からdatetime64型に変換\n",
        "print(dataset['date'].dtype)  # 変換前\n",
        "dataset['date'] = pd.to_datetime(dataset['date'])\n",
        "print(dataset['date'].dtype) #変換後"
      ],
      "execution_count": 65,
      "outputs": [
        {
          "output_type": "stream",
          "text": [
            "object\n",
            "datetime64[ns]\n"
          ],
          "name": "stdout"
        }
      ]
    },
    {
      "cell_type": "code",
      "metadata": {
        "colab": {
          "base_uri": "https://localhost:8080/",
          "height": 295
        },
        "id": "OdgvIirtcCRi",
        "outputId": "ba9f796f-d057-40cf-a298-a3230af87b8c"
      },
      "source": [
        "# 終値と25日移動平均を図\n",
        "plt.figure()\n",
        "plt.title(\"YHOO stock price\")\n",
        "plt.xlabel('Date')\n",
        "plt.ylabel('Stock Price')\n",
        "plt.plot(dataset['date'], dataset['close'], color='black',\n",
        "         linestyle='-', label='close')\n",
        "plt.plot(dataset['date'], dataset['25MA'], color='dodgerblue',\n",
        "         linestyle='--', label='25MA')\n",
        "plt.legend() # 凡例\n",
        "plt.savefig('5-2_stock_price.png')\n",
        "plt.show()"
      ],
      "execution_count": 66,
      "outputs": [
        {
          "output_type": "display_data",
          "data": {
            "image/png": "[encoded data removed]",
            "text/plain": [
              "<Figure size 432x288 with 1 Axes>"
            ]
          },
          "metadata": {
            "tags": [],
            "needs_background": "light"
          }
        }
      ]
    },
    {
      "cell_type": "markdown",
      "metadata": {
        "id": "-XQ9QGoxjYk7"
      },
      "source": [
        "### 標準化\n",
        "入力する25日移動平均を平均値が０，標準偏差が１となるように標準化する．\n",
        "→学習時の損失収束を早め，効率的に学習することができる．\n",
        "\n"
      ]
    },
    {
      "cell_type": "code",
      "metadata": {
        "colab": {
          "base_uri": "https://localhost:8080/"
        },
        "id": "stXtCEBOiwsH",
        "outputId": "0d9082a3-9c43-44c6-8390-59147de50309"
      },
      "source": [
        "ma = dataset['25MA'].values.reshape(-1, 1)\n",
        "scaler = StandardScaler()\n",
        "ma_std = scaler.fit_transform(ma)\n",
        "print(\"ma: {}\".format(ma))\n",
        "print(\"ma_std: {}\".format(ma_std))"
      ],
      "execution_count": 67,
      "outputs": [
        {
          "output_type": "stream",
          "text": [
            "ma: [[17.1       ]\n",
            " [17.165     ]\n",
            " [17.16666667]\n",
            " ...\n",
            " [40.1083998 ]\n",
            " [40.01359984]\n",
            " [39.9219998 ]]\n",
            "ma_std: [[-0.88504099]\n",
            " [-0.87931043]\n",
            " [-0.8791635 ]\n",
            " ...\n",
            " [ 1.14343482]\n",
            " [ 1.13507703]\n",
            " [ 1.12700135]]\n"
          ],
          "name": "stdout"
        }
      ]
    },
    {
      "cell_type": "code",
      "metadata": {
        "colab": {
          "base_uri": "https://localhost:8080/"
        },
        "id": "nSBkz7QPRPXl",
        "outputId": "0dff171f-ec4d-4cd7-c5ad-6998ab84c4d0"
      },
      "source": [
        "data = [] # 入力データ(過去25日分の移動平均)\n",
        "label = [] # 出力データ(1日後の移動平均)\n",
        "for i in range(len(ma_std) - 25):\n",
        "  data.append(ma_std[i:i + 25])\n",
        "  label.append(ma_std[i + 25])\n",
        "# ndarrayに変換\n",
        "data = np.array(data)\n",
        "label = np.array(label)\n",
        "print(\"data size: {}\".format(data.shape))\n",
        "print(\"label size: {}\".format(label.shape))"
      ],
      "execution_count": 68,
      "outputs": [
        {
          "output_type": "stream",
          "text": [
            "data size: (1737, 25, 1)\n",
            "label size: (1737, 1)\n"
          ],
          "name": "stdout"
        }
      ]
    },
    {
      "cell_type": "code",
      "metadata": {
        "colab": {
          "base_uri": "https://localhost:8080/"
        },
        "id": "tE7KZVBMU2dR",
        "outputId": "9fabdd3c-3888-4111-b13e-55ac79debbe5"
      },
      "source": [
        "# 訓練データとテストデータのサイズを決定\n",
        "test_len = int(252)\n",
        "train_len = int(data.shape[0] - test_len)\n",
        "# 訓練データの準備\n",
        "train_data = data[:train_len]\n",
        "train_label = label[:train_len]\n",
        "# テストデータの準備\n",
        "test_data = data[train_len:]\n",
        "test_label = label[train_len:]\n",
        "# データの形状を確認\n",
        "print(\"train_data size: {}\".format(train_data.shape))\n",
        "print(\"teest_data size: {}\".format(test_data.shape))\n",
        "print(\"train_label size: {}\".format(train_label.shape))\n",
        "print(\"test_label size: {}\".format(test_label.shape))"
      ],
      "execution_count": 69,
      "outputs": [
        {
          "output_type": "stream",
          "text": [
            "train_data size: (1485, 25, 1)\n",
            "teest_data size: (252, 25, 1)\n",
            "train_label size: (1485, 1)\n",
            "test_label size: (252, 1)\n"
          ],
          "name": "stdout"
        }
      ]
    },
    {
      "cell_type": "code",
      "metadata": {
        "id": "xO_2Pc4zakuE"
      },
      "source": [
        "# ndarrayをPyTorchのTensorに変換\n",
        "train_x = torch.Tensor(train_data)\n",
        "test_x = torch.Tensor(test_data)\n",
        "train_y = torch.Tensor(train_label)\n",
        "test_y = torch.Tensor(test_label)"
      ],
      "execution_count": 70,
      "outputs": []
    },
    {
      "cell_type": "code",
      "metadata": {
        "id": "dYx93pYEa5-G"
      },
      "source": [
        "# 特徴量とラベルを結合したデータセット\n",
        "train_dataset = TensorDataset(train_x, train_y)\n",
        "test_dataset = TensorDataset(test_x, test_y)"
      ],
      "execution_count": 71,
      "outputs": []
    },
    {
      "cell_type": "code",
      "metadata": {
        "colab": {
          "base_uri": "https://localhost:8080/"
        },
        "id": "2SW8GY9TbmHS",
        "outputId": "20f93747-bafe-436a-ba79-2763e65669ba"
      },
      "source": [
        "# ミニバッチサイズを指定したdataloader\n",
        "train_batch = DataLoader(\n",
        "    dataset=train_dataset, #データセット指定\n",
        "    batch_size=128, # バッチサイズの指定\n",
        "    shuffle=True, # シャッフルするか\n",
        "    num_workers=2 # コア数\n",
        ")\n",
        "test_batch = DataLoader(\n",
        "    dataset=test_dataset,\n",
        "    batch_size=128,\n",
        "    shuffle=True,\n",
        "    num_workers=2\n",
        ")\n",
        "# ミニバッチデータセット確認\n",
        "for data, label in train_batch:\n",
        "  print(\"batch data size: {}\".format(data.size())) #　バッチ入力データサイズ\n",
        "  print(\"batch label size: {}\".format(label.size())) # バッチのラベルサイズ\n",
        "  break\n"
      ],
      "execution_count": 72,
      "outputs": [
        {
          "output_type": "stream",
          "text": [
            "batch data size: torch.Size([128, 25, 1])\n",
            "batch label size: torch.Size([128, 1])\n"
          ],
          "name": "stdout"
        }
      ]
    },
    {
      "cell_type": "markdown",
      "metadata": {
        "id": "nOMDFRbeh5Qo"
      },
      "source": [
        "# ニューラルネットワークの定義"
      ]
    },
    {
      "cell_type": "code",
      "metadata": {
        "id": "2ortYxu6eBAO"
      },
      "source": [
        "class Net(nn.Module):\n",
        "  def __init__(self, D_in, H, D_out):\n",
        "    super(Net, self).__init__()\n",
        "    self.lstm = nn.LSTM(D_in, H, batch_first=True,\n",
        "                        num_layers=1)\n",
        "    self.linear = nn.Linear(H, D_out)\n",
        "\n",
        "  def forward(self, x):\n",
        "    output, (hidden, cell) = self.lstm(x)\n",
        "    output = self.linear(output[:, -1, :]) # 最後のステップだけ入力\n",
        "    return output"
      ],
      "execution_count": 73,
      "outputs": []
    },
    {
      "cell_type": "code",
      "metadata": {
        "id": "uIx8QB_0iyCf"
      },
      "source": [
        "# ハイパーパラメータ\n",
        "D_in = 1\n",
        "H = 200\n",
        "D_out = 1\n",
        "epoch = 100"
      ],
      "execution_count": 74,
      "outputs": []
    },
    {
      "cell_type": "code",
      "metadata": {
        "colab": {
          "base_uri": "https://localhost:8080/"
        },
        "id": "FxXsKWcqjO40",
        "outputId": "1aeee004-0a3f-4787-8637-2821563df4a7"
      },
      "source": [
        "# ネットワークのロード\n",
        "device = torch.device('cuda' if torch.cuda.is_available() else 'cpu')\n",
        "net = Net(D_in, H, D_out).to(device)\n",
        "# デバイス確認\n",
        "print(\"Device: {}\".format(device))"
      ],
      "execution_count": 75,
      "outputs": [
        {
          "output_type": "stream",
          "text": [
            "Device: cuda\n"
          ],
          "name": "stdout"
        }
      ]
    },
    {
      "cell_type": "code",
      "metadata": {
        "id": "rwU2CyjXj2Hq"
      },
      "source": [
        "# 損失関数の定義\n",
        "criterion = nn.MSELoss()  #　損失関数(平均二乗誤差:MSE)\n",
        "\n",
        "# 最適化関数\n",
        "optimizer = optim.Adam(net.parameters())"
      ],
      "execution_count": 76,
      "outputs": []
    },
    {
      "cell_type": "markdown",
      "metadata": {
        "id": "uOBmdcD9mb41"
      },
      "source": [
        "# 学習"
      ]
    },
    {
      "cell_type": "code",
      "metadata": {
        "colab": {
          "base_uri": "https://localhost:8080/"
        },
        "id": "UadA9gHamU75",
        "outputId": "f14b77ec-1e01-496f-8dcf-60d47dba696b"
      },
      "source": [
        "# 損失を保存するリストを作成\n",
        "train_loss_list = [] # 学習損失\n",
        "test_loss_list = [] # 評価損失\n",
        "\n",
        "# 学習(エポック)の実行\n",
        "for i in range(epoch):\n",
        "  # エポックの進行状況を表示\n",
        "  print('-----------------------------')\n",
        "  print(\"Epoch: {}/{}\".format(i+1, epoch))\n",
        "\n",
        "  # 損失の初期化\n",
        "  train_loss = 0\n",
        "  test_loss = 0\n",
        "\n",
        "  #------------学習パート----------#\n",
        "  #ニューラルネットワークを学習モードに設定\n",
        "  net.train()\n",
        "  # ミニバッチごとにデータをロードし学習\n",
        "  for data, label in train_batch:\n",
        "    # GPUにTensorを転送\n",
        "    data = data.to(device)\n",
        "    label = label.to(device)\n",
        "\n",
        "    optimizer.zero_grad() # 勾配を初期化\n",
        "    y_pred = net(data) # データを入力して予測値を計算(順伝播)\n",
        "    loss = criterion(y_pred, label) # 損失(誤差)を計算\n",
        "    loss.backward() # 勾配の計算(逆伝播)\n",
        "    optimizer.step() # パラメータの更新\n",
        "    train_loss += loss.item() # ミニバッチごとの損失を蓄積\n",
        "\n",
        "  # ミニバッチの平均の損失を計算\n",
        "  batch_train_loss = train_loss / len(train_batch)\n",
        "  #---------学習パートはここまで-----------#\n",
        "\n",
        "  #----------評価パート-------------#\n",
        "  net.eval()  # ニューラルネットワークを評価モードに設定\n",
        "  # 評価時の計算で自動微分きのうをオフにする\n",
        "  with torch.no_grad():\n",
        "    for data, label in test_batch:\n",
        "      data = data.to(device)\n",
        "      label = label.to(device)\n",
        "      y_pred = net(data) # データを入力して予測値を計算(順伝播)\n",
        "      loss = criterion(y_pred, label) # 誤差を計算\n",
        "      test_loss += loss.item() # ミニバッチごとの損失を蓄積\n",
        "\n",
        "  # ミニバッチの平均の損失を計算\n",
        "  batch_test_loss = test_loss / len(test_batch)\n",
        "  # -----------評価パートはここまで-------------#\n",
        "\n",
        "  # エポックごとに損失を表示\n",
        "  print(\"Train_Loss: {:.2E} Test_Loss: {:.2E}\".format(\n",
        "        batch_train_loss, batch_test_loss))\n",
        "  # 損失をリスト化して保存\n",
        "  train_loss_list.append(batch_train_loss)\n",
        "  test_loss_list.append(batch_test_loss)"
      ],
      "execution_count": 77,
      "outputs": [
        {
          "output_type": "stream",
          "text": [
            "-----------------------------\n",
            "Epoch: 1/100\n",
            "Train_Loss: 6.44E-01 Test_Loss: 1.95E-01\n",
            "-----------------------------\n",
            "Epoch: 2/100\n",
            "Train_Loss: 7.78E-02 Test_Loss: 1.48E-02\n",
            "-----------------------------\n",
            "Epoch: 3/100\n",
            "Train_Loss: 2.25E-02 Test_Loss: 6.66E-03\n",
            "-----------------------------\n",
            "Epoch: 4/100\n",
            "Train_Loss: 1.42E-02 Test_Loss: 8.06E-03\n",
            "-----------------------------\n",
            "Epoch: 5/100\n",
            "Train_Loss: 8.69E-03 Test_Loss: 6.06E-03\n",
            "-----------------------------\n",
            "Epoch: 6/100\n",
            "Train_Loss: 6.17E-03 Test_Loss: 3.74E-03\n",
            "-----------------------------\n",
            "Epoch: 7/100\n",
            "Train_Loss: 4.57E-03 Test_Loss: 3.71E-03\n",
            "-----------------------------\n",
            "Epoch: 8/100\n",
            "Train_Loss: 3.64E-03 Test_Loss: 3.18E-03\n",
            "-----------------------------\n",
            "Epoch: 9/100\n",
            "Train_Loss: 2.74E-03 Test_Loss: 2.42E-03\n",
            "-----------------------------\n",
            "Epoch: 10/100\n",
            "Train_Loss: 2.22E-03 Test_Loss: 2.08E-03\n",
            "-----------------------------\n",
            "Epoch: 11/100\n",
            "Train_Loss: 1.87E-03 Test_Loss: 1.93E-03\n",
            "-----------------------------\n",
            "Epoch: 12/100\n",
            "Train_Loss: 1.62E-03 Test_Loss: 1.71E-03\n",
            "-----------------------------\n",
            "Epoch: 13/100\n",
            "Train_Loss: 1.39E-03 Test_Loss: 1.87E-03\n",
            "-----------------------------\n",
            "Epoch: 14/100\n",
            "Train_Loss: 1.33E-03 Test_Loss: 1.44E-03\n",
            "-----------------------------\n",
            "Epoch: 15/100\n",
            "Train_Loss: 1.30E-03 Test_Loss: 2.02E-03\n",
            "-----------------------------\n",
            "Epoch: 16/100\n",
            "Train_Loss: 1.24E-03 Test_Loss: 1.40E-03\n",
            "-----------------------------\n",
            "Epoch: 17/100\n",
            "Train_Loss: 1.04E-03 Test_Loss: 1.21E-03\n",
            "-----------------------------\n",
            "Epoch: 18/100\n",
            "Train_Loss: 9.74E-04 Test_Loss: 1.09E-03\n",
            "-----------------------------\n",
            "Epoch: 19/100\n",
            "Train_Loss: 8.84E-04 Test_Loss: 1.04E-03\n",
            "-----------------------------\n",
            "Epoch: 20/100\n",
            "Train_Loss: 8.44E-04 Test_Loss: 8.16E-04\n",
            "-----------------------------\n",
            "Epoch: 21/100\n",
            "Train_Loss: 7.87E-04 Test_Loss: 8.57E-04\n",
            "-----------------------------\n",
            "Epoch: 22/100\n",
            "Train_Loss: 7.49E-04 Test_Loss: 7.64E-04\n",
            "-----------------------------\n",
            "Epoch: 23/100\n",
            "Train_Loss: 7.76E-04 Test_Loss: 7.08E-04\n",
            "-----------------------------\n",
            "Epoch: 24/100\n",
            "Train_Loss: 7.33E-04 Test_Loss: 1.01E-03\n",
            "-----------------------------\n",
            "Epoch: 25/100\n",
            "Train_Loss: 7.94E-04 Test_Loss: 7.02E-04\n",
            "-----------------------------\n",
            "Epoch: 26/100\n",
            "Train_Loss: 7.00E-04 Test_Loss: 9.28E-04\n",
            "-----------------------------\n",
            "Epoch: 27/100\n",
            "Train_Loss: 6.87E-04 Test_Loss: 7.43E-04\n",
            "-----------------------------\n",
            "Epoch: 28/100\n",
            "Train_Loss: 6.37E-04 Test_Loss: 6.13E-04\n",
            "-----------------------------\n",
            "Epoch: 29/100\n",
            "Train_Loss: 6.50E-04 Test_Loss: 5.99E-04\n",
            "-----------------------------\n",
            "Epoch: 30/100\n",
            "Train_Loss: 6.60E-04 Test_Loss: 6.94E-04\n",
            "-----------------------------\n",
            "Epoch: 31/100\n",
            "Train_Loss: 6.12E-04 Test_Loss: 6.33E-04\n",
            "-----------------------------\n",
            "Epoch: 32/100\n",
            "Train_Loss: 6.17E-04 Test_Loss: 6.05E-04\n",
            "-----------------------------\n",
            "Epoch: 33/100\n",
            "Train_Loss: 5.74E-04 Test_Loss: 5.63E-04\n",
            "-----------------------------\n",
            "Epoch: 34/100\n",
            "Train_Loss: 5.76E-04 Test_Loss: 6.45E-04\n",
            "-----------------------------\n",
            "Epoch: 35/100\n",
            "Train_Loss: 5.56E-04 Test_Loss: 5.85E-04\n",
            "-----------------------------\n",
            "Epoch: 36/100\n",
            "Train_Loss: 5.81E-04 Test_Loss: 5.53E-04\n",
            "-----------------------------\n",
            "Epoch: 37/100\n",
            "Train_Loss: 6.23E-04 Test_Loss: 5.38E-04\n",
            "-----------------------------\n",
            "Epoch: 38/100\n",
            "Train_Loss: 5.71E-04 Test_Loss: 5.29E-04\n",
            "-----------------------------\n",
            "Epoch: 39/100\n",
            "Train_Loss: 5.23E-04 Test_Loss: 5.23E-04\n",
            "-----------------------------\n",
            "Epoch: 40/100\n",
            "Train_Loss: 5.13E-04 Test_Loss: 5.28E-04\n",
            "-----------------------------\n",
            "Epoch: 41/100\n",
            "Train_Loss: 5.35E-04 Test_Loss: 5.10E-04\n",
            "-----------------------------\n",
            "Epoch: 42/100\n",
            "Train_Loss: 5.31E-04 Test_Loss: 5.32E-04\n",
            "-----------------------------\n",
            "Epoch: 43/100\n",
            "Train_Loss: 5.49E-04 Test_Loss: 5.57E-04\n",
            "-----------------------------\n",
            "Epoch: 44/100\n",
            "Train_Loss: 5.44E-04 Test_Loss: 4.94E-04\n",
            "-----------------------------\n",
            "Epoch: 45/100\n",
            "Train_Loss: 5.10E-04 Test_Loss: 4.86E-04\n",
            "-----------------------------\n",
            "Epoch: 46/100\n",
            "Train_Loss: 5.00E-04 Test_Loss: 4.78E-04\n",
            "-----------------------------\n",
            "Epoch: 47/100\n",
            "Train_Loss: 4.83E-04 Test_Loss: 5.79E-04\n",
            "-----------------------------\n",
            "Epoch: 48/100\n",
            "Train_Loss: 4.90E-04 Test_Loss: 4.63E-04\n",
            "-----------------------------\n",
            "Epoch: 49/100\n",
            "Train_Loss: 4.69E-04 Test_Loss: 4.71E-04\n",
            "-----------------------------\n",
            "Epoch: 50/100\n",
            "Train_Loss: 4.74E-04 Test_Loss: 4.70E-04\n",
            "-----------------------------\n",
            "Epoch: 51/100\n",
            "Train_Loss: 4.63E-04 Test_Loss: 4.55E-04\n",
            "-----------------------------\n",
            "Epoch: 52/100\n",
            "Train_Loss: 4.50E-04 Test_Loss: 4.69E-04\n",
            "-----------------------------\n",
            "Epoch: 53/100\n",
            "Train_Loss: 4.71E-04 Test_Loss: 4.35E-04\n",
            "-----------------------------\n",
            "Epoch: 54/100\n",
            "Train_Loss: 4.44E-04 Test_Loss: 4.34E-04\n",
            "-----------------------------\n",
            "Epoch: 55/100\n",
            "Train_Loss: 4.50E-04 Test_Loss: 4.51E-04\n",
            "-----------------------------\n",
            "Epoch: 56/100\n",
            "Train_Loss: 4.20E-04 Test_Loss: 4.72E-04\n",
            "-----------------------------\n",
            "Epoch: 57/100\n",
            "Train_Loss: 4.25E-04 Test_Loss: 4.43E-04\n",
            "-----------------------------\n",
            "Epoch: 58/100\n",
            "Train_Loss: 4.12E-04 Test_Loss: 4.14E-04\n",
            "-----------------------------\n",
            "Epoch: 59/100\n",
            "Train_Loss: 4.03E-04 Test_Loss: 4.57E-04\n",
            "-----------------------------\n",
            "Epoch: 60/100\n",
            "Train_Loss: 4.14E-04 Test_Loss: 5.62E-04\n",
            "-----------------------------\n",
            "Epoch: 61/100\n",
            "Train_Loss: 4.54E-04 Test_Loss: 4.07E-04\n",
            "-----------------------------\n",
            "Epoch: 62/100\n",
            "Train_Loss: 4.08E-04 Test_Loss: 5.73E-04\n",
            "-----------------------------\n",
            "Epoch: 63/100\n",
            "Train_Loss: 4.31E-04 Test_Loss: 4.81E-04\n",
            "-----------------------------\n",
            "Epoch: 64/100\n",
            "Train_Loss: 4.51E-04 Test_Loss: 5.04E-04\n",
            "-----------------------------\n",
            "Epoch: 65/100\n",
            "Train_Loss: 4.67E-04 Test_Loss: 4.31E-04\n",
            "-----------------------------\n",
            "Epoch: 66/100\n",
            "Train_Loss: 4.02E-04 Test_Loss: 4.21E-04\n",
            "-----------------------------\n",
            "Epoch: 67/100\n",
            "Train_Loss: 3.80E-04 Test_Loss: 3.94E-04\n",
            "-----------------------------\n",
            "Epoch: 68/100\n",
            "Train_Loss: 3.73E-04 Test_Loss: 3.86E-04\n",
            "-----------------------------\n",
            "Epoch: 69/100\n",
            "Train_Loss: 3.67E-04 Test_Loss: 3.84E-04\n",
            "-----------------------------\n",
            "Epoch: 70/100\n",
            "Train_Loss: 3.55E-04 Test_Loss: 3.97E-04\n",
            "-----------------------------\n",
            "Epoch: 71/100\n",
            "Train_Loss: 4.07E-04 Test_Loss: 3.87E-04\n",
            "-----------------------------\n",
            "Epoch: 72/100\n",
            "Train_Loss: 4.03E-04 Test_Loss: 4.25E-04\n",
            "-----------------------------\n",
            "Epoch: 73/100\n",
            "Train_Loss: 3.69E-04 Test_Loss: 3.77E-04\n",
            "-----------------------------\n",
            "Epoch: 74/100\n",
            "Train_Loss: 3.52E-04 Test_Loss: 3.72E-04\n",
            "-----------------------------\n",
            "Epoch: 75/100\n",
            "Train_Loss: 3.48E-04 Test_Loss: 3.69E-04\n",
            "-----------------------------\n",
            "Epoch: 76/100\n",
            "Train_Loss: 3.45E-04 Test_Loss: 3.82E-04\n",
            "-----------------------------\n",
            "Epoch: 77/100\n",
            "Train_Loss: 3.37E-04 Test_Loss: 4.03E-04\n",
            "-----------------------------\n",
            "Epoch: 78/100\n",
            "Train_Loss: 3.54E-04 Test_Loss: 3.76E-04\n",
            "-----------------------------\n",
            "Epoch: 79/100\n",
            "Train_Loss: 3.34E-04 Test_Loss: 3.71E-04\n",
            "-----------------------------\n",
            "Epoch: 80/100\n",
            "Train_Loss: 3.28E-04 Test_Loss: 3.54E-04\n",
            "-----------------------------\n",
            "Epoch: 81/100\n",
            "Train_Loss: 3.08E-04 Test_Loss: 3.42E-04\n",
            "-----------------------------\n",
            "Epoch: 82/100\n",
            "Train_Loss: 3.22E-04 Test_Loss: 3.50E-04\n",
            "-----------------------------\n",
            "Epoch: 83/100\n",
            "Train_Loss: 3.52E-04 Test_Loss: 3.81E-04\n",
            "-----------------------------\n",
            "Epoch: 84/100\n",
            "Train_Loss: 3.74E-04 Test_Loss: 3.44E-04\n",
            "-----------------------------\n",
            "Epoch: 85/100\n",
            "Train_Loss: 3.23E-04 Test_Loss: 3.64E-04\n",
            "-----------------------------\n",
            "Epoch: 86/100\n",
            "Train_Loss: 2.97E-04 Test_Loss: 3.64E-04\n",
            "-----------------------------\n",
            "Epoch: 87/100\n",
            "Train_Loss: 3.07E-04 Test_Loss: 3.38E-04\n",
            "-----------------------------\n",
            "Epoch: 88/100\n",
            "Train_Loss: 3.32E-04 Test_Loss: 3.76E-04\n",
            "-----------------------------\n",
            "Epoch: 89/100\n",
            "Train_Loss: 3.01E-04 Test_Loss: 3.86E-04\n",
            "-----------------------------\n",
            "Epoch: 90/100\n",
            "Train_Loss: 3.19E-04 Test_Loss: 3.27E-04\n",
            "-----------------------------\n",
            "Epoch: 91/100\n",
            "Train_Loss: 3.13E-04 Test_Loss: 3.80E-04\n",
            "-----------------------------\n",
            "Epoch: 92/100\n",
            "Train_Loss: 2.92E-04 Test_Loss: 3.95E-04\n",
            "-----------------------------\n",
            "Epoch: 93/100\n",
            "Train_Loss: 2.77E-04 Test_Loss: 3.35E-04\n",
            "-----------------------------\n",
            "Epoch: 94/100\n",
            "Train_Loss: 2.76E-04 Test_Loss: 4.34E-04\n",
            "-----------------------------\n",
            "Epoch: 95/100\n",
            "Train_Loss: 2.94E-04 Test_Loss: 3.18E-04\n",
            "-----------------------------\n",
            "Epoch: 96/100\n",
            "Train_Loss: 2.75E-04 Test_Loss: 3.22E-04\n",
            "-----------------------------\n",
            "Epoch: 97/100\n",
            "Train_Loss: 2.70E-04 Test_Loss: 3.16E-04\n",
            "-----------------------------\n",
            "Epoch: 98/100\n",
            "Train_Loss: 2.73E-04 Test_Loss: 3.24E-04\n",
            "-----------------------------\n",
            "Epoch: 99/100\n",
            "Train_Loss: 2.96E-04 Test_Loss: 3.13E-04\n",
            "-----------------------------\n",
            "Epoch: 100/100\n",
            "Train_Loss: 2.75E-04 Test_Loss: 3.66E-04\n"
          ],
          "name": "stdout"
        }
      ]
    },
    {
      "cell_type": "markdown",
      "metadata": {
        "id": "4mz8Ptve-5zs"
      },
      "source": [
        "# 結果の可視化"
      ]
    },
    {
      "cell_type": "code",
      "metadata": {
        "colab": {
          "base_uri": "https://localhost:8080/",
          "height": 295
        },
        "id": "47tXdI6A-RYk",
        "outputId": "2da8c6e6-9a29-4a27-8020-3acbb5b70691"
      },
      "source": [
        "# 損失\n",
        "plt.figure()\n",
        "plt.title('Train and Test Loss')\n",
        "plt.xlabel('Epoch')\n",
        "plt.ylabel('Loss')\n",
        "plt.plot(range(1, epoch+1), train_loss_list, color='blue',\n",
        "         linestyle='-', label='Train_Loss')\n",
        "plt.plot(range(1, epoch+1), test_loss_list, color='red',\n",
        "         linestyle='--', label='Test_Loss')\n",
        "plt.legend()  # 凡例\n",
        "plt.show()  # 表示"
      ],
      "execution_count": 78,
      "outputs": [
        {
          "output_type": "display_data",
          "data": {
            "image/png": "[encoded data removed]",
            "text/plain": [
              "<Figure size 432x288 with 1 Axes>"
            ]
          },
          "metadata": {
            "tags": [],
            "needs_background": "light"
          }
        }
      ]
    },
    {
      "cell_type": "code",
      "metadata": {
        "id": "kIwgl5SE_xRp"
      },
      "source": [
        "# ニューラルネットワークを評価モードに設定\n",
        "net.eval()\n",
        "#　推定時の自動微分をオフ\n",
        "with torch.no_grad():\n",
        "  # 初期化\n",
        "  pred_ma = []\n",
        "  true_ma = []\n",
        "  for data, label in test_batch:\n",
        "    # GPUにTensorを転送\n",
        "    data = data.to(device)\n",
        "    label = label.to(device)\n",
        "    # データを入力して予測値を計算(順伝播)\n",
        "    y_pred = net(data)\n",
        "    pred_ma.append(y_pred.view(-1).tolist()) # Tensorを1次元listに変換\n",
        "    true_ma.append(label.view(-1).tolist())"
      ],
      "execution_count": 79,
      "outputs": []
    },
    {
      "cell_type": "code",
      "metadata": {
        "id": "r76gKtRWGYXB"
      },
      "source": [
        "# Tensorを数値データを取り出す\n",
        "pred_ma = [elem for lst in pred_ma for elem in lst] # listを1次元配列に\n",
        "true_ma = [elem for lst in true_ma for elem in lst]\n",
        "\n",
        "# 標準化を解除して元の株価に変換\n",
        "pred_ma = scaler.inverse_transform(pred_ma)\n",
        "true_ma = scaler.inverse_transform(true_ma)"
      ],
      "execution_count": 80,
      "outputs": []
    },
    {
      "cell_type": "code",
      "metadata": {
        "colab": {
          "base_uri": "https://localhost:8080/"
        },
        "id": "mMyrcEJXHFUP",
        "outputId": "e5db884f-7aa6-47ea-d6d5-e35fa206ba97"
      },
      "source": [
        "# MAEの計算\n",
        "mae = mean_absolute_error(true_ma, pred_ma)\n",
        "print(\"MAE: {:.3f}\".format(mae))"
      ],
      "execution_count": 81,
      "outputs": [
        {
          "output_type": "stream",
          "text": [
            "MAE: 0.170\n"
          ],
          "name": "stdout"
        }
      ]
    },
    {
      "cell_type": "code",
      "metadata": {
        "colab": {
          "base_uri": "https://localhost:8080/",
          "height": 315
        },
        "id": "uOGRUxhZHWFp",
        "outputId": "4d7e3ea5-e186-48fb-bf37-203c05a0052b"
      },
      "source": [
        "# 終値と25日移動平均を図示\n",
        "date = dataset['date'][-1*test_len:]  # テストデータの日付\n",
        "test_close = dataset['close'][-1*test_len:].values.reshape(-1)  # テストデータの終値\n",
        "plt.figure()\n",
        "plt.title('YHOO Stock Price Prediction')\n",
        "plt.xlabel('Date')\n",
        "plt.ylabel('Stock Price')\n",
        "plt.plot(date, test_close, color='black',\n",
        "         linestyle='-', label='close')\n",
        "plt.plot(date, true_ma, color='dodgerblue',\n",
        "         linestyle='--', label='true_25MA')\n",
        "plt.plot(date, pred_ma, color='red',\n",
        "         linestyle=':', label='predicted_25MA')\n",
        "plt.legend()  # 凡例\n",
        "plt.xticks(rotation=30)  # x軸ラベルを30度回転して表示\n",
        "plt.show()"
      ],
      "execution_count": 83,
      "outputs": [
        {
          "output_type": "display_data",
          "data": {
            "image/png": "[encoded data removed]",
            "text/plain": [
              "<Figure size 432x288 with 1 Axes>"
            ]
          },
          "metadata": {
            "tags": [],
            "needs_background": "light"
          }
        }
      ]
    },
    {
      "cell_type": "code",
      "metadata": {
        "id": "H6SOGMG_I8r5"
      },
      "source": [
        ""
      ],
      "execution_count": 82,
      "outputs": []
    }
  ]
}