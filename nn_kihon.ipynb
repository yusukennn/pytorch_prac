{
  "nbformat": 4,
  "nbformat_minor": 0,
  "metadata": {
    "colab": {
      "name": "nn_kihon.ipynb",
      "provenance": [],
      "authorship_tag": "ABX9TyNPNDWCb8nYEJ/rXtAqK6aG",
      "include_colab_link": true
    },
    "kernelspec": {
      "name": "python3",
      "display_name": "Python 3"
    },
    "accelerator": "GPU"
  },
  "cells": [
    {
      "cell_type": "markdown",
      "metadata": {
        "id": "view-in-github",
        "colab_type": "text"
      },
      "source": [
        "<a href=\"https://colab.research.google.com/github/yusukennn/pytorch_prac/blob/main/nn_kihon.ipynb\" target=\"_parent\"><img src=\"https://colab.research.google.com/assets/colab-badge.svg\" alt=\"Open In Colab\"/></a>"
      ]
    },
    {
      "cell_type": "code",
      "metadata": {
        "colab": {
          "base_uri": "https://localhost:8080/",
          "height": 1000
        },
        "id": "p7BZ5D2_k2Mf",
        "outputId": "f10c1bce-7db0-4101-c0e9-1cf89e5b53ff"
      },
      "source": [
        "# 必要なパッケージのインストール\n",
        "!pip3 install torch==1.6.0+cu101\n",
        "!pip3 install torchvision==0.7.0+cu101\n",
        "!pip3 install numpy==1.18.5\n",
        "!pip3 install matplotlib==3.2.2\n",
        "!pip3 install scikit-learn==0.23.1\n",
        "!pip3 install seaborn==0.11.0"
      ],
      "execution_count": null,
      "outputs": [
        {
          "output_type": "stream",
          "text": [
            "\u001b[31mERROR: Could not find a version that satisfies the requirement torch==1.6.0+cu101 (from versions: 0.1.2, 0.1.2.post1, 0.1.2.post2, 0.3.1, 0.4.0, 0.4.1, 1.0.0, 1.0.1, 1.0.1.post2, 1.1.0, 1.2.0, 1.3.0, 1.3.1, 1.4.0, 1.5.0, 1.5.1, 1.6.0, 1.7.0, 1.7.1)\u001b[0m\n",
            "\u001b[31mERROR: No matching distribution found for torch==1.6.0+cu101\u001b[0m\n",
            "\u001b[31mERROR: Could not find a version that satisfies the requirement torchvision==0.7.0+cu101 (from versions: 0.1.6, 0.1.7, 0.1.8, 0.1.9, 0.2.0, 0.2.1, 0.2.2, 0.2.2.post2, 0.2.2.post3, 0.3.0, 0.4.0, 0.4.1, 0.4.2, 0.5.0, 0.6.0, 0.6.1, 0.7.0, 0.8.0, 0.8.1, 0.8.2)\u001b[0m\n",
            "\u001b[31mERROR: No matching distribution found for torchvision==0.7.0+cu101\u001b[0m\n",
            "Collecting numpy==1.18.5\n",
            "\u001b[?25l  Downloading https://files.pythonhosted.org/packages/b3/a9/b1bc4c935ed063766bce7d3e8c7b20bd52e515ff1c732b02caacf7918e5a/numpy-1.18.5-cp36-cp36m-manylinux1_x86_64.whl (20.1MB)\n",
            "\u001b[K     |████████████████████████████████| 20.1MB 1.6MB/s \n",
            "\u001b[31mERROR: tensorflow 2.4.0 has requirement numpy~=1.19.2, but you'll have numpy 1.18.5 which is incompatible.\u001b[0m\n",
            "\u001b[31mERROR: datascience 0.10.6 has requirement folium==0.2.1, but you'll have folium 0.8.3 which is incompatible.\u001b[0m\n",
            "\u001b[31mERROR: albumentations 0.1.12 has requirement imgaug<0.2.7,>=0.2.5, but you'll have imgaug 0.2.9 which is incompatible.\u001b[0m\n",
            "\u001b[?25hInstalling collected packages: numpy\n",
            "  Found existing installation: numpy 1.19.5\n",
            "    Uninstalling numpy-1.19.5:\n",
            "      Successfully uninstalled numpy-1.19.5\n",
            "Successfully installed numpy-1.18.5\n"
          ],
          "name": "stdout"
        },
        {
          "output_type": "display_data",
          "data": {
            "application/vnd.colab-display-data+json": {
              "pip_warning": {
                "packages": [
                  "numpy"
                ]
              }
            }
          },
          "metadata": {
            "tags": []
          }
        },
        {
          "output_type": "stream",
          "text": [
            "Requirement already satisfied: matplotlib==3.2.2 in /usr/local/lib/python3.6/dist-packages (3.2.2)\n",
            "Requirement already satisfied: pyparsing!=2.0.4,!=2.1.2,!=2.1.6,>=2.0.1 in /usr/local/lib/python3.6/dist-packages (from matplotlib==3.2.2) (2.4.7)\n",
            "Requirement already satisfied: cycler>=0.10 in /usr/local/lib/python3.6/dist-packages (from matplotlib==3.2.2) (0.10.0)\n",
            "Requirement already satisfied: python-dateutil>=2.1 in /usr/local/lib/python3.6/dist-packages (from matplotlib==3.2.2) (2.8.1)\n",
            "Requirement already satisfied: kiwisolver>=1.0.1 in /usr/local/lib/python3.6/dist-packages (from matplotlib==3.2.2) (1.3.1)\n",
            "Requirement already satisfied: numpy>=1.11 in /usr/local/lib/python3.6/dist-packages (from matplotlib==3.2.2) (1.18.5)\n",
            "Requirement already satisfied: six in /usr/local/lib/python3.6/dist-packages (from cycler>=0.10->matplotlib==3.2.2) (1.15.0)\n",
            "Collecting scikit-learn==0.23.1\n",
            "\u001b[?25l  Downloading https://files.pythonhosted.org/packages/d9/3a/eb8d7bbe28f4787d140bb9df685b7d5bf6115c0e2a969def4027144e98b6/scikit_learn-0.23.1-cp36-cp36m-manylinux1_x86_64.whl (6.8MB)\n",
            "\u001b[K     |████████████████████████████████| 6.9MB 3.9MB/s \n",
            "\u001b[?25hRequirement already satisfied: numpy>=1.13.3 in /usr/local/lib/python3.6/dist-packages (from scikit-learn==0.23.1) (1.18.5)\n",
            "Requirement already satisfied: scipy>=0.19.1 in /usr/local/lib/python3.6/dist-packages (from scikit-learn==0.23.1) (1.4.1)\n",
            "Collecting threadpoolctl>=2.0.0\n",
            "  Downloading https://files.pythonhosted.org/packages/f7/12/ec3f2e203afa394a149911729357aa48affc59c20e2c1c8297a60f33f133/threadpoolctl-2.1.0-py3-none-any.whl\n",
            "Requirement already satisfied: joblib>=0.11 in /usr/local/lib/python3.6/dist-packages (from scikit-learn==0.23.1) (1.0.0)\n",
            "Installing collected packages: threadpoolctl, scikit-learn\n",
            "  Found existing installation: scikit-learn 0.22.2.post1\n",
            "    Uninstalling scikit-learn-0.22.2.post1:\n",
            "      Successfully uninstalled scikit-learn-0.22.2.post1\n",
            "Successfully installed scikit-learn-0.23.1 threadpoolctl-2.1.0\n",
            "Collecting seaborn==0.11.0\n",
            "\u001b[?25l  Downloading https://files.pythonhosted.org/packages/bc/45/5118a05b0d61173e6eb12bc5804f0fbb6f196adb0a20e0b16efc2b8e98be/seaborn-0.11.0-py3-none-any.whl (283kB)\n",
            "\u001b[K     |████████████████████████████████| 286kB 5.5MB/s \n",
            "\u001b[?25hRequirement already satisfied: numpy>=1.15 in /usr/local/lib/python3.6/dist-packages (from seaborn==0.11.0) (1.18.5)\n",
            "Requirement already satisfied: scipy>=1.0 in /usr/local/lib/python3.6/dist-packages (from seaborn==0.11.0) (1.4.1)\n",
            "Requirement already satisfied: matplotlib>=2.2 in /usr/local/lib/python3.6/dist-packages (from seaborn==0.11.0) (3.2.2)\n",
            "Requirement already satisfied: pandas>=0.23 in /usr/local/lib/python3.6/dist-packages (from seaborn==0.11.0) (1.1.5)\n",
            "Requirement already satisfied: cycler>=0.10 in /usr/local/lib/python3.6/dist-packages (from matplotlib>=2.2->seaborn==0.11.0) (0.10.0)\n",
            "Requirement already satisfied: pyparsing!=2.0.4,!=2.1.2,!=2.1.6,>=2.0.1 in /usr/local/lib/python3.6/dist-packages (from matplotlib>=2.2->seaborn==0.11.0) (2.4.7)\n",
            "Requirement already satisfied: python-dateutil>=2.1 in /usr/local/lib/python3.6/dist-packages (from matplotlib>=2.2->seaborn==0.11.0) (2.8.1)\n",
            "Requirement already satisfied: kiwisolver>=1.0.1 in /usr/local/lib/python3.6/dist-packages (from matplotlib>=2.2->seaborn==0.11.0) (1.3.1)\n",
            "Requirement already satisfied: pytz>=2017.2 in /usr/local/lib/python3.6/dist-packages (from pandas>=0.23->seaborn==0.11.0) (2018.9)\n",
            "Requirement already satisfied: six in /usr/local/lib/python3.6/dist-packages (from cycler>=0.10->matplotlib>=2.2->seaborn==0.11.0) (1.15.0)\n",
            "Installing collected packages: seaborn\n",
            "  Found existing installation: seaborn 0.11.1\n",
            "    Uninstalling seaborn-0.11.1:\n",
            "      Successfully uninstalled seaborn-0.11.1\n",
            "Successfully installed seaborn-0.11.0\n"
          ],
          "name": "stdout"
        }
      ]
    },
    {
      "cell_type": "code",
      "metadata": {
        "id": "2r4GGgYWk8id"
      },
      "source": [
        "# 必要なパッケージをインポート\n",
        "import torch\n",
        "from torch import nn\n",
        "import torch.nn.functional as F"
      ],
      "execution_count": null,
      "outputs": []
    },
    {
      "cell_type": "markdown",
      "metadata": {
        "id": "4vEPfDWQtbrk"
      },
      "source": [
        "## 2-3"
      ]
    },
    {
      "cell_type": "code",
      "metadata": {
        "colab": {
          "base_uri": "https://localhost:8080/"
        },
        "id": "ptJuQSt-lHDi",
        "outputId": "a461f8e2-5e1e-48d1-80eb-952fc12abb9c"
      },
      "source": [
        "net = torch.nn.Sequential(\n",
        "    nn.Conv2d(1, 6, 3),\n",
        "    nn.MaxPool2d((2, 2)),\n",
        "    nn.ReLU(),\n",
        "    nn.Conv2d(6, 16, 3),\n",
        "    nn.MaxPool2d(2),\n",
        "    nn.ReLU()\n",
        ")\n",
        "print(net)"
      ],
      "execution_count": null,
      "outputs": [
        {
          "output_type": "stream",
          "text": [
            "Sequential(\n",
            "  (0): Conv2d(1, 6, kernel_size=(3, 3), stride=(1, 1))\n",
            "  (1): MaxPool2d(kernel_size=(2, 2), stride=(2, 2), padding=0, dilation=1, ceil_mode=False)\n",
            "  (2): ReLU()\n",
            "  (3): Conv2d(6, 16, kernel_size=(3, 3), stride=(1, 1))\n",
            "  (4): MaxPool2d(kernel_size=2, stride=2, padding=0, dilation=1, ceil_mode=False)\n",
            "  (5): ReLU()\n",
            ")\n"
          ],
          "name": "stdout"
        }
      ]
    },
    {
      "cell_type": "code",
      "metadata": {
        "colab": {
          "base_uri": "https://localhost:8080/"
        },
        "id": "NdpLI9-Jpn1v",
        "outputId": "3dca4ca0-5cef-4d57-eaab-50276f0425b9"
      },
      "source": [
        "class Net(nn.Module):\n",
        "  def __init__(self):\n",
        "    super(Net, self).__init__()\n",
        "    self.conv1 = nn.Conv2d(1, 6, 3)\n",
        "    self.conv2 = nn.Conv2d(6, 16, 3)\n",
        "\n",
        "  def forward(self, x):\n",
        "    x = F.max_pool2d(F.relu(self.conv1(x)), (2, 2))\n",
        "    x = F.max_pool2d(F.relu(self.canv2(x)), 2)\n",
        "    return x\n",
        "\n",
        "net = Net().to('cuda')\n",
        "print(net)\n"
      ],
      "execution_count": null,
      "outputs": [
        {
          "output_type": "stream",
          "text": [
            "Net(\n",
            "  (conv1): Conv2d(1, 6, kernel_size=(3, 3), stride=(1, 1))\n",
            "  (conv2): Conv2d(6, 16, kernel_size=(3, 3), stride=(1, 1))\n",
            ")\n"
          ],
          "name": "stdout"
        }
      ]
    },
    {
      "cell_type": "markdown",
      "metadata": {
        "id": "AaV3UaABthHA"
      },
      "source": [
        "## 2-4 損失関数の計算"
      ]
    },
    {
      "cell_type": "markdown",
      "metadata": {
        "id": "DGcMEA9F5yxD"
      },
      "source": [
        "バイナリ交差エントロピー損失（nn.BCELoss）"
      ]
    },
    {
      "cell_type": "code",
      "metadata": {
        "colab": {
          "base_uri": "https://localhost:8080/"
        },
        "id": "MX_QuKExsl6V",
        "outputId": "48ea6880-c735-405f-b2c7-2bc78e12fe72"
      },
      "source": [
        "m = nn.Sigmoid()  # シグモイド関数\n",
        "y = torch.rand(3) # 予測値（ロジット），データ数は３つ\n",
        "t = torch.empty(3, dtype=torch.float32).random_(2) # 正解クラス（全２クラス）\n",
        "criterion = nn.BCELoss() # 損失関数の設定\n",
        "loss = criterion(m(y), t) # 予測値と正解値との誤差を計算\n",
        "\n",
        "# 変数の中身を表示\n",
        "print(\"y: {}\".format(y))\n",
        "print(\"m(y): {}\".format(m(y)))\n",
        "print(\"t: {}\".format(t))\n",
        "print(\"loss: {:.4f}\".format(loss))"
      ],
      "execution_count": null,
      "outputs": [
        {
          "output_type": "stream",
          "text": [
            "y: tensor([1.4381e-01, 3.5854e-02, 1.1444e-04])\n",
            "m(y): tensor([0.5359, 0.5090, 0.5000])\n",
            "t: tensor([0., 0., 0.])\n",
            "loss: 0.7240\n"
          ],
          "name": "stdout"
        }
      ]
    },
    {
      "cell_type": "markdown",
      "metadata": {
        "id": "7DwRvCPy-Q2g"
      },
      "source": [
        "ロジット付きバイナリ交差エントロピー損失（nn.BCEWithLogitsLoss）"
      ]
    },
    {
      "cell_type": "code",
      "metadata": {
        "colab": {
          "base_uri": "https://localhost:8080/"
        },
        "id": "oy7e0op3-NPv",
        "outputId": "e5776764-4da8-47f4-86f4-b7ce03af5f93"
      },
      "source": [
        "import torch\n",
        "from torch import nn\n",
        "\n",
        "y = torch.rand(3)\n",
        "t = torch.empty(3, dtype=torch.float32).random_(2)\n",
        "criterion = nn.BCEWithLogitsLoss()\n",
        "loss = criterion(y, t)\n",
        "\n",
        "# 変数の中身を表示\n",
        "print(\"y: {}\".format(y))\n",
        "print(\"t: {}\".format(t))\n",
        "print(\"loss: {:.4f}\".format(loss))"
      ],
      "execution_count": null,
      "outputs": [
        {
          "output_type": "stream",
          "text": [
            "y: tensor([0.3241, 0.1017, 0.4382])\n",
            "t: tensor([0., 0., 1.])\n",
            "loss: 0.7038\n"
          ],
          "name": "stdout"
        }
      ]
    },
    {
      "cell_type": "markdown",
      "metadata": {
        "id": "m-RWKa8wETNZ"
      },
      "source": [
        "ソフトマックス交差エントロピー損失"
      ]
    },
    {
      "cell_type": "code",
      "metadata": {
        "colab": {
          "base_uri": "https://localhost:8080/"
        },
        "id": "R1uN0mo-D-aU",
        "outputId": "0c5a5e2d-4bf0-47a5-cea8-8ad9567592e7"
      },
      "source": [
        "y = torch.rand(3, 5) # 予測値（ロジット），データ数は３つで各クラスに対する出力を持つ\n",
        "t = torch.empty(3, dtype=torch.int64).random_(5) # 正解クラス（全５クラス）\n",
        "criterion = nn.CrossEntropyLoss() # 損失関数の設定\n",
        "loss = criterion(y, t) # 予測値と正解値との誤差を計算\n",
        "\n",
        "print(\"y: {}\".format(y))\n",
        "print(\"t: {}\".format(t))\n",
        "print(\"loss: {:.4f}\".format(loss))"
      ],
      "execution_count": null,
      "outputs": [
        {
          "output_type": "stream",
          "text": [
            "y: tensor([[0.9294, 0.3286, 0.4446, 0.6806, 0.1261],\n",
            "        [0.3801, 0.8113, 0.6708, 0.9484, 0.6607],\n",
            "        [0.5095, 0.7058, 0.9937, 0.9267, 0.2705]])\n",
            "t: tensor([0, 0, 4])\n",
            "loss: 1.7390\n"
          ],
          "name": "stdout"
        }
      ]
    },
    {
      "cell_type": "markdown",
      "metadata": {
        "id": "nCLhLKmhXiM7"
      },
      "source": [
        "平均二乗誤差損失"
      ]
    },
    {
      "cell_type": "code",
      "metadata": {
        "colab": {
          "base_uri": "https://localhost:8080/"
        },
        "id": "l7GXaSH3Lqu1",
        "outputId": "a643ab39-67af-4163-a832-89cd55265403"
      },
      "source": [
        "y = torch.rand(1, 10) # ネットワークが予測した予測値\n",
        "t = torch.rand(1, 10) # 正解値\n",
        "criterion = nn.MSELoss() # 損失関数の設定\n",
        "loss = criterion(y, t) # 予測値と正解値の誤差を計算\n",
        "\n",
        "# 変数の中身を表示\n",
        "print(\"y: {}\".format(y))\n",
        "print(\"t: {}\".format(t))\n",
        "print(\"loss: {:.4f}\".format(loss))"
      ],
      "execution_count": null,
      "outputs": [
        {
          "output_type": "stream",
          "text": [
            "y: tensor([[0.8908, 0.7447, 0.9067, 0.8963, 0.5036, 0.7917, 0.5717, 0.7730, 0.9946,\n",
            "         0.9925]])\n",
            "t: tensor([[0.2049, 0.9107, 0.5312, 0.2413, 0.7884, 0.7993, 0.4416, 0.8052, 0.8951,\n",
            "         0.4946]])\n",
            "loss: 0.1425\n"
          ],
          "name": "stdout"
        }
      ]
    },
    {
      "cell_type": "markdown",
      "metadata": {
        "id": "doVIKyG4f-gy"
      },
      "source": [
        "平均絶対誤差"
      ]
    },
    {
      "cell_type": "code",
      "metadata": {
        "colab": {
          "base_uri": "https://localhost:8080/"
        },
        "id": "IHMV84POfdNF",
        "outputId": "553627de-c660-4902-de90-09027c312f4b"
      },
      "source": [
        "y = torch.rand(1, 10)  # ネットワークが予測した予測値\n",
        "t = torch.rand(1, 10)  # 正解値\n",
        "criterion = nn.L1Loss()  # 損失関数の設定\n",
        "loss = criterion(y, t)  # 予測値と正解値との誤差を計算\n",
        "\n",
        "# 変数の中身を表示\n",
        "print(\"y: {}\".format(y))\n",
        "print(\"t: {}\".format(t))\n",
        "print(\"loss: {:.4f}\".format(loss))"
      ],
      "execution_count": null,
      "outputs": [
        {
          "output_type": "stream",
          "text": [
            "y: tensor([[0.2530, 0.3944, 0.4460, 0.2716, 0.8971, 0.0831, 0.1681, 0.5415, 0.8836,\n",
            "         0.3548]])\n",
            "t: tensor([[0.0247, 0.1046, 0.7714, 0.5159, 0.1602, 0.8183, 0.4805, 0.8422, 0.4573,\n",
            "         0.3675]])\n",
            "loss: 0.3612\n"
          ],
          "name": "stdout"
        }
      ]
    },
    {
      "cell_type": "markdown",
      "metadata": {
        "id": "ttcbOMhGoh7s"
      },
      "source": [
        "## 最適化関数"
      ]
    },
    {
      "cell_type": "markdown",
      "metadata": {
        "id": "f8HLktKupCGU"
      },
      "source": [
        "ニューラルネットワークのパラメータ（重み）で損失関数を微分した値がゼロになるようにする．この過程がニューラルネットワークの学習．\n",
        "\n",
        "アルゴリズムを使って探索的に最適解を探索する．ここで「最適化関数」．またこの手法を勾配降下法．損失関数の微分によって勾配ベクトルを求め，それがゼロとなるようにパラメータ更新を繰り返すことで，損失を最小化する．\n",
        "\n",
        "現在はAdamを使うことがほとんど\n"
      ]
    },
    {
      "cell_type": "code",
      "metadata": {
        "id": "Ujd4y8i9g63j"
      },
      "source": [
        "from torch import optim"
      ],
      "execution_count": null,
      "outputs": []
    },
    {
      "cell_type": "code",
      "metadata": {
        "id": "R5llgrOAqSB1"
      },
      "source": [
        "optimizer = optim.Adam(net.parameters(), lr=1e-4, betas=(0.9, 0.99), eps=1e-07)"
      ],
      "execution_count": null,
      "outputs": []
    },
    {
      "cell_type": "code",
      "metadata": {
        "colab": {
          "base_uri": "https://localhost:8080/"
        },
        "id": "8ESLrOu-q8rm",
        "outputId": "bfa838df-3d63-483b-d08a-22e4d9fd110f"
      },
      "source": [
        "# パッケージのインポート\n",
        "import torch\n",
        "from torch import nn\n",
        "import torch.nn.functional as F\n",
        "from torch import optim\n",
        "import matplotlib.pyplot as plt\n",
        "\n",
        "# ニューラルネットワークの定義\n",
        "class Net(nn.Module):\n",
        "    def __init__(self, D_in, H, D_out):\n",
        "        super(Net, self).__init__()\n",
        "        self.linear1 = nn.Linear(D_in, H)\n",
        "        self.linear2 = nn.Linear(H, D_out)\n",
        "\n",
        "    def forward(self, x):\n",
        "        x = F.relu(self.linear1(x))\n",
        "        x = self.linear2(x)\n",
        "        return x\n",
        "\n",
        "\n",
        "# ハイパーパラメータの定義\n",
        "N = 64  # バッチサイズ: 64\n",
        "D_in = 1000  # 入力次元: 1000\n",
        "H = 100  # 隠れ層次元: 100\n",
        "D_out = 10  # 出力次元: 10\n",
        "epoch = 100 # 学習回数\n",
        "\n",
        "# データの生成\n",
        "x = torch.rand(N, D_in)  # 入力データ\n",
        "y = torch.rand(N, D_out)  # 正解値\n",
        "\n",
        "# ネットワークのロード\n",
        "net = Net(D_in, H, D_out)\n",
        "\n",
        "# 損失関数\n",
        "criterion = nn.MSELoss()\n",
        "\n",
        "# 最適化関数\n",
        "optimizer = optim.Adam(net.parameters(), lr=1e-4, betas=(0.9, 0.99), eps=1e-07)\n",
        "\n",
        "loss_list = []  # 学習ごとの誤差を格納するリスト\n",
        "# 学習\n",
        "for i in range(epoch):\n",
        "    # データを入力して予測値を計算（順伝播）\n",
        "    y_pred = net(x)\n",
        "    # 損失（誤差）を計算\n",
        "    loss = criterion(y_pred, y)\n",
        "    print(\"Epoch: {}, Loss: {:.3f}\".format(i+1, loss.item()))  # 誤差を表示\n",
        "    loss_list.append(loss.item())  # 誤差をリスト化して記録\n",
        "\n",
        "    # 勾配の初期化\n",
        "    optimizer.zero_grad()\n",
        "    # 勾配の計算（逆伝搬）\n",
        "    loss.backward()\n",
        "    # パラメータ（重み）の更新\n",
        "    optimizer.step()"
      ],
      "execution_count": null,
      "outputs": [
        {
          "output_type": "stream",
          "text": [
            "Epoch: 1, Loss: 0.298\n",
            "Epoch: 2, Loss: 0.263\n",
            "Epoch: 3, Loss: 0.231\n",
            "Epoch: 4, Loss: 0.202\n",
            "Epoch: 5, Loss: 0.176\n",
            "Epoch: 6, Loss: 0.154\n",
            "Epoch: 7, Loss: 0.136\n",
            "Epoch: 8, Loss: 0.121\n",
            "Epoch: 9, Loss: 0.110\n",
            "Epoch: 10, Loss: 0.102\n",
            "Epoch: 11, Loss: 0.097\n",
            "Epoch: 12, Loss: 0.094\n",
            "Epoch: 13, Loss: 0.093\n",
            "Epoch: 14, Loss: 0.093\n",
            "Epoch: 15, Loss: 0.093\n",
            "Epoch: 16, Loss: 0.094\n",
            "Epoch: 17, Loss: 0.094\n",
            "Epoch: 18, Loss: 0.094\n",
            "Epoch: 19, Loss: 0.093\n",
            "Epoch: 20, Loss: 0.092\n",
            "Epoch: 21, Loss: 0.091\n",
            "Epoch: 22, Loss: 0.090\n",
            "Epoch: 23, Loss: 0.088\n",
            "Epoch: 24, Loss: 0.087\n",
            "Epoch: 25, Loss: 0.086\n",
            "Epoch: 26, Loss: 0.085\n",
            "Epoch: 27, Loss: 0.084\n",
            "Epoch: 28, Loss: 0.083\n",
            "Epoch: 29, Loss: 0.082\n",
            "Epoch: 30, Loss: 0.082\n",
            "Epoch: 31, Loss: 0.081\n",
            "Epoch: 32, Loss: 0.081\n",
            "Epoch: 33, Loss: 0.080\n",
            "Epoch: 34, Loss: 0.080\n",
            "Epoch: 35, Loss: 0.079\n",
            "Epoch: 36, Loss: 0.078\n",
            "Epoch: 37, Loss: 0.077\n",
            "Epoch: 38, Loss: 0.077\n",
            "Epoch: 39, Loss: 0.076\n",
            "Epoch: 40, Loss: 0.075\n",
            "Epoch: 41, Loss: 0.075\n",
            "Epoch: 42, Loss: 0.074\n",
            "Epoch: 43, Loss: 0.074\n",
            "Epoch: 44, Loss: 0.073\n",
            "Epoch: 45, Loss: 0.073\n",
            "Epoch: 46, Loss: 0.072\n",
            "Epoch: 47, Loss: 0.072\n",
            "Epoch: 48, Loss: 0.071\n",
            "Epoch: 49, Loss: 0.071\n",
            "Epoch: 50, Loss: 0.070\n",
            "Epoch: 51, Loss: 0.070\n",
            "Epoch: 52, Loss: 0.069\n",
            "Epoch: 53, Loss: 0.068\n",
            "Epoch: 54, Loss: 0.068\n",
            "Epoch: 55, Loss: 0.067\n",
            "Epoch: 56, Loss: 0.067\n",
            "Epoch: 57, Loss: 0.066\n",
            "Epoch: 58, Loss: 0.066\n",
            "Epoch: 59, Loss: 0.065\n",
            "Epoch: 60, Loss: 0.065\n",
            "Epoch: 61, Loss: 0.064\n",
            "Epoch: 62, Loss: 0.064\n",
            "Epoch: 63, Loss: 0.063\n",
            "Epoch: 64, Loss: 0.063\n",
            "Epoch: 65, Loss: 0.062\n",
            "Epoch: 66, Loss: 0.061\n",
            "Epoch: 67, Loss: 0.061\n",
            "Epoch: 68, Loss: 0.060\n",
            "Epoch: 69, Loss: 0.060\n",
            "Epoch: 70, Loss: 0.059\n",
            "Epoch: 71, Loss: 0.059\n",
            "Epoch: 72, Loss: 0.058\n",
            "Epoch: 73, Loss: 0.058\n",
            "Epoch: 74, Loss: 0.057\n",
            "Epoch: 75, Loss: 0.057\n",
            "Epoch: 76, Loss: 0.056\n",
            "Epoch: 77, Loss: 0.056\n",
            "Epoch: 78, Loss: 0.055\n",
            "Epoch: 79, Loss: 0.055\n",
            "Epoch: 80, Loss: 0.054\n",
            "Epoch: 81, Loss: 0.054\n",
            "Epoch: 82, Loss: 0.053\n",
            "Epoch: 83, Loss: 0.053\n",
            "Epoch: 84, Loss: 0.052\n",
            "Epoch: 85, Loss: 0.052\n",
            "Epoch: 86, Loss: 0.051\n",
            "Epoch: 87, Loss: 0.051\n",
            "Epoch: 88, Loss: 0.050\n",
            "Epoch: 89, Loss: 0.050\n",
            "Epoch: 90, Loss: 0.049\n",
            "Epoch: 91, Loss: 0.049\n",
            "Epoch: 92, Loss: 0.048\n",
            "Epoch: 93, Loss: 0.048\n",
            "Epoch: 94, Loss: 0.047\n",
            "Epoch: 95, Loss: 0.047\n",
            "Epoch: 96, Loss: 0.046\n",
            "Epoch: 97, Loss: 0.046\n",
            "Epoch: 98, Loss: 0.045\n",
            "Epoch: 99, Loss: 0.045\n",
            "Epoch: 100, Loss: 0.044\n"
          ],
          "name": "stdout"
        }
      ]
    },
    {
      "cell_type": "code",
      "metadata": {
        "colab": {
          "base_uri": "https://localhost:8080/",
          "height": 295
        },
        "id": "WWq2C3OD2EHW",
        "outputId": "7916dea9-8268-4eb9-87d2-682293a70be6"
      },
      "source": [
        "# 結果を図示\n",
        "plt.figure()\n",
        "plt.title('Training Curve')  # タイトル\n",
        "plt.xlabel('Epoch')  # x軸のラベル\n",
        "plt.ylabel('Loss')  # y軸のラベル\n",
        "plt.plot(range(1, epoch+1), loss_list)  # 学習回数ごとの誤差をプロット\n",
        "plt.show()  # プロットの表示"
      ],
      "execution_count": null,
      "outputs": [
        {
          "output_type": "display_data",
          "data": {
            "image/png": "[encoded data removed]",
            "text/plain": [
              "<Figure size 432x288 with 1 Axes>"
            ]
          },
          "metadata": {
            "tags": [],
            "needs_background": "light"
          }
        }
      ]
    },
    {
      "cell_type": "code",
      "metadata": {
        "id": "Iq8vjqJK21gG"
      },
      "source": [
        ""
      ],
      "execution_count": null,
      "outputs": []
    }
  ]
}